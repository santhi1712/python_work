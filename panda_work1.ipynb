{
  "nbformat": 4,
  "nbformat_minor": 0,
  "metadata": {
    "colab": {
      "provenance": [],
      "authorship_tag": "ABX9TyPtzXsdA16SmS+XckJJj/t7",
      "include_colab_link": true
    },
    "kernelspec": {
      "name": "python3",
      "display_name": "Python 3"
    },
    "language_info": {
      "name": "python"
    }
  },
  "cells": [
    {
      "cell_type": "markdown",
      "metadata": {
        "id": "view-in-github",
        "colab_type": "text"
      },
      "source": [
        "<a href=\"https://colab.research.google.com/github/santhi1712/python_work/blob/main/panda_work1.ipynb\" target=\"_parent\"><img src=\"https://colab.research.google.com/assets/colab-badge.svg\" alt=\"Open In Colab\"/></a>"
      ]
    },
    {
      "cell_type": "code",
      "execution_count": null,
      "metadata": {
        "id": "JxOirr8HBifV"
      },
      "outputs": [],
      "source": [
        "# imports\n",
        "import pandas as pd\n",
        "import matplotlib.pyplot as plt\n",
        "\n",
        "# this allows plots to appear directly in the notebook\n",
        "%matplotlib inline"
      ]
    },
    {
      "cell_type": "code",
      "source": [
        "#https://github.com/justmarkham/DAT4/blob/master/notebooks/08_linear_regression.ipynb\n",
        "# read data into a DataFrame\n",
        "data = pd.read_csv('https://raw.githubusercontent.com/justmarkham/scikit-learn-videos/master/data/Advertising.csv', index_col=0)\n",
        "print(data.head())\n",
        "print(data.shape)"
      ],
      "metadata": {
        "colab": {
          "base_uri": "https://localhost:8080/"
        },
        "id": "sxUNwbbuIqfO",
        "outputId": "8ad228a4-6000-4d92-9dc4-eea9f94b7959"
      },
      "execution_count": null,
      "outputs": [
        {
          "output_type": "stream",
          "name": "stdout",
          "text": [
            "      TV  Radio  Newspaper  Sales\n",
            "1  230.1   37.8       69.2   22.1\n",
            "2   44.5   39.3       45.1   10.4\n",
            "3   17.2   45.9       69.3    9.3\n",
            "4  151.5   41.3       58.5   18.5\n",
            "5  180.8   10.8       58.4   12.9\n",
            "(200, 4)\n"
          ]
        }
      ]
    },
    {
      "cell_type": "code",
      "source": [
        "# visualize the relationship between the features and the response using scatterplots\n",
        "fig, axs = plt.subplots(1, 3, sharey=True)\n",
        "data.plot(kind='scatter', x='TV', y='Sales', ax=axs[0], figsize=(16, 8))\n",
        "data.plot(kind='scatter', x='Radio', y='Sales', ax=axs[1])\n",
        "data.plot(kind='scatter', x='Newspaper', y='Sales', ax=axs[2])"
      ],
      "metadata": {
        "id": "1LsOVJlCJDB-"
      },
      "execution_count": null,
      "outputs": []
    },
    {
      "cell_type": "code",
      "source": [
        "with open('example.txt', 'r') as f:\n",
        "    print(f.read())"
      ],
      "metadata": {
        "id": "m6-_B-3NhBAi"
      },
      "execution_count": null,
      "outputs": []
    },
    {
      "cell_type": "code",
      "source": [
        "import json\n",
        "records = [json.loads(line) for line in open('example.txt')]\n",
        "records[0]"
      ],
      "metadata": {
        "colab": {
          "base_uri": "https://localhost:8080/"
        },
        "id": "tFhry3uJhOma",
        "outputId": "1aabbde8-7dfd-43a0-a8b5-2bd38de5dfd4"
      },
      "execution_count": 27,
      "outputs": [
        {
          "output_type": "execute_result",
          "data": {
            "text/plain": [
              "{'a': 'Mozilla/5.0 (Windows NT 6.1; WOW64) AppleWebKit/535.11 (KHTML, like Gecko) Chrome/17.0.963.78 Safari/535.11',\n",
              " 'c': 'US',\n",
              " 'nk': 1,\n",
              " 'tz': 'America/New_York',\n",
              " 'gr': 'MA',\n",
              " 'g': 'A6qOVH',\n",
              " 'h': 'wfLQtf',\n",
              " 'l': 'orofrog',\n",
              " 'al': 'en-US,en;q=0.8',\n",
              " 'hh': '1.usa.gov',\n",
              " 'r': 'http://www.facebook.com/l/7AQEFzjSi/1.usa.gov/wfLQtf',\n",
              " 'u': 'http://www.ncbi.nlm.nih.gov/pubmed/22415991',\n",
              " 't': 1331923247,\n",
              " 'hc': 1331822918,\n",
              " 'cy': 'Danvers',\n",
              " 'll': [42.576698, -70.954903]}"
            ]
          },
          "metadata": {},
          "execution_count": 27
        }
      ]
    },
    {
      "cell_type": "code",
      "source": [
        "#finding the most often-occurring time zones in the dataset (the tz field).\n",
        "time_zones = [rec['tz'] for rec in records if 'tz' in rec]\n",
        "time_zones[:10]"
      ],
      "metadata": {
        "colab": {
          "base_uri": "https://localhost:8080/"
        },
        "id": "mjyRIsqnh1Gj",
        "outputId": "9b96100b-6354-400e-9245-37e9fd583320"
      },
      "execution_count": 29,
      "outputs": [
        {
          "output_type": "execute_result",
          "data": {
            "text/plain": [
              "['America/New_York',\n",
              " 'America/Denver',\n",
              " 'America/New_York',\n",
              " 'America/Sao_Paulo',\n",
              " 'America/New_York',\n",
              " 'America/New_York',\n",
              " 'Europe/Warsaw',\n",
              " '',\n",
              " '',\n",
              " '']"
            ]
          },
          "metadata": {},
          "execution_count": 29
        }
      ]
    },
    {
      "cell_type": "code",
      "source": [
        "#I put this logic in a function just to make it more reusable\n",
        "from collections import defaultdict\n",
        "def get_counts(sequence):\n",
        " counts = defaultdict(int) # values will initialize to 0\n",
        " for x in sequence:\n",
        "  counts[x] += 1\n",
        " return counts\n",
        "counts = get_counts(time_zones)"
      ],
      "metadata": {
        "id": "Zc64VYoCiZ06"
      },
      "execution_count": 36,
      "outputs": []
    },
    {
      "cell_type": "code",
      "source": [
        "counts['America/Sao_Paulo']"
      ],
      "metadata": {
        "colab": {
          "base_uri": "https://localhost:8080/"
        },
        "id": "y6T439djiu26",
        "outputId": "3d0240f1-1b94-4c19-f0e9-c129072e2dc1"
      },
      "execution_count": 39,
      "outputs": [
        {
          "output_type": "execute_result",
          "data": {
            "text/plain": [
              "33"
            ]
          },
          "metadata": {},
          "execution_count": 39
        }
      ]
    },
    {
      "cell_type": "code",
      "source": [
        "len(time_zones)"
      ],
      "metadata": {
        "colab": {
          "base_uri": "https://localhost:8080/"
        },
        "id": "uPPwN4Niix75",
        "outputId": "03bbf26d-289e-4557-e579-287fe9ad9d4b"
      },
      "execution_count": 40,
      "outputs": [
        {
          "output_type": "execute_result",
          "data": {
            "text/plain": [
              "3440"
            ]
          },
          "metadata": {},
          "execution_count": 40
        }
      ]
    }
  ]
}