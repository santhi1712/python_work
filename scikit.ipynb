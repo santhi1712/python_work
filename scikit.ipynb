{
  "nbformat": 4,
  "nbformat_minor": 0,
  "metadata": {
    "colab": {
      "provenance": [],
      "authorship_tag": "ABX9TyPfyjSRA3gEvZ2VIqBY1pf+",
      "include_colab_link": true
    },
    "kernelspec": {
      "name": "python3",
      "display_name": "Python 3"
    },
    "language_info": {
      "name": "python"
    }
  },
  "cells": [
    {
      "cell_type": "markdown",
      "metadata": {
        "id": "view-in-github",
        "colab_type": "text"
      },
      "source": [
        "<a href=\"https://colab.research.google.com/github/santhi1712/python_work/blob/main/scikit.ipynb\" target=\"_parent\"><img src=\"https://colab.research.google.com/assets/colab-badge.svg\" alt=\"Open In Colab\"/></a>"
      ]
    },
    {
      "cell_type": "code",
      "execution_count": null,
      "metadata": {
        "id": "A8nIr0uNz9C1"
      },
      "outputs": [],
      "source": [
        " from sklearn import datasets\n",
        " iris = datasets.load_iris()\n",
        " print(iris.DESCR)\n"
      ]
    },
    {
      "cell_type": "code",
      "source": [
        " print(iris.data) # Features"
      ],
      "metadata": {
        "id": "8gQE8hoOYAvC"
      },
      "execution_count": null,
      "outputs": []
    },
    {
      "cell_type": "code",
      "source": [
        " print(iris.feature_names)\n",
        " print(iris.target) # Labels\n",
        " print(iris.target_names) # Label names"
      ],
      "metadata": {
        "id": "pURUAGJKYPaI"
      },
      "execution_count": null,
      "outputs": []
    },
    {
      "cell_type": "code",
      "source": [
        "import pandas as pd\n",
        "df = pd.DataFrame(iris.data) # convert features to dataframe in Pandas\n",
        "print(df.head())"
      ],
      "metadata": {
        "id": "AIu_wG8XYwGU"
      },
      "execution_count": null,
      "outputs": []
    },
    {
      "cell_type": "code",
      "source": [
        " #make_circles() function generates a random dataset containing a large circle embedding a smaller circle in two dimensions\n",
        " import matplotlib.pyplot as plt\n",
        " import numpy as np\n",
        " from sklearn.datasets import make_circles\n",
        " X, y = make_circles(n_samples=100, noise=0.09)\n",
        " rgb = np.array(['b', 'g', 'y'])\n",
        " plt.scatter(X[:, 0], X[:, 1], color=rgb[y])"
      ],
      "metadata": {
        "id": "aUAFcYf4ZZEC"
      },
      "execution_count": null,
      "outputs": []
    },
    {
      "cell_type": "code",
      "source": [
        "import matplotlib.pyplot as plt\n",
        "heights = [[1.6], [1.65], [1.7], [1.73], [1.8]]\n",
        "weights = [[60], [65], [72.3], [75], [80]]\n",
        "plt.title('Weights plotted against heights')\n",
        "plt.xlabel('Heights in meters')\n",
        "plt.ylabel('Weights in kilograms')\n",
        "plt.plot(heights, weights, 'k.')\n",
        "# axis range for x and y\n",
        "plt.axis([1.5, 1.85, 50, 90])\n",
        "plt.grid(True)"
      ],
      "metadata": {
        "id": "dcpOkHrxaSxX"
      },
      "execution_count": null,
      "outputs": []
    },
    {
      "cell_type": "code",
      "source": [
        " from sklearn.linear_model import LinearRegression\n",
        " # Create and fit the model\n",
        " model = LinearRegression()\n",
        " model.fit(X=heights, y=weights)\n",
        " # make prediction\n",
        " weight = model.predict([[1.8]])[0][0]\n",
        " print(round(weight,2))"
      ],
      "metadata": {
        "colab": {
          "base_uri": "https://localhost:8080/"
        },
        "id": "9tC-gG2ybNCs",
        "outputId": "c669dbd4-b284-48f6-dc3b-0bbcb6e0aad8"
      },
      "execution_count": 14,
      "outputs": [
        {
          "output_type": "stream",
          "name": "stdout",
          "text": [
            "81.2\n"
          ]
        }
      ]
    },
    {
      "cell_type": "code",
      "source": [
        "import matplotlib.pyplot as plt\n",
        "heights = [[1.6], [1.65], [1.7], [1.73], [1.8]]\n",
        "weights = [[60], [65], [72.3], [75], [80]]\n",
        "plt.title('Weights plotted against heights')\n",
        "plt.xlabel('Heights in meters')\n",
        "plt.ylabel('Weights in kilograms')\n",
        "plt.plot(heights, weights, 'k.')\n",
        "plt.axis([1.5, 1.85, 50, 90])\n",
        "plt.grid(True)\n",
        " # plot the regression line\n",
        "plt.plot(heights, model.predict(heights), color='g')\n",
        "round(model.predict([[0]])[0][0],1)"
      ],
      "metadata": {
        "id": "yaFe1vzZbzPw"
      },
      "execution_count": null,
      "outputs": []
    },
    {
      "cell_type": "code",
      "source": [
        "#data cleansing\n",
        "import pandas as pd\n",
        "from google.colab import files\n",
        "uploaded = files.upload()\n",
        "df = pd.read_csv(\"nandata.csv\")\n",
        "print(df)\n",
        "df.isnull().sum()#get the null values\n",
        "print(df)#when prints pandas load empty values with\"NaN\"\n",
        "# replace all the NaNs in column B with the average of column B\n",
        "df.B = df.B.fillna(df.B.mean())\n",
        "print(df)\n",
        "df = df.dropna() # drop all rows with NaN\n",
        "print(df)\n",
        "df = df.reset_index(drop=True) # reset the index\n",
        "print(df)\n",
        "print(df.duplicated(keep=False))\n",
        "df.drop_duplicates(keep= 'first',inplace=True) # remove: inplace=true to modify the original dataframe"
      ],
      "metadata": {
        "colab": {
          "base_uri": "https://localhost:8080/",
          "height": 1000
        },
        "id": "91aVNWnxMdNX",
        "outputId": "464db407-9c1f-4d27-8f6c-e274cdfbca90"
      },
      "execution_count": 40,
      "outputs": [
        {
          "output_type": "display_data",
          "data": {
            "text/plain": [
              "<IPython.core.display.HTML object>"
            ],
            "text/html": [
              "\n",
              "     <input type=\"file\" id=\"files-ab0e5ab1-0af5-4efd-a94d-16f0f691a87f\" name=\"files[]\" multiple disabled\n",
              "        style=\"border:none\" />\n",
              "     <output id=\"result-ab0e5ab1-0af5-4efd-a94d-16f0f691a87f\">\n",
              "      Upload widget is only available when the cell has been executed in the\n",
              "      current browser session. Please rerun this cell to enable.\n",
              "      </output>\n",
              "      <script>// Copyright 2017 Google LLC\n",
              "//\n",
              "// Licensed under the Apache License, Version 2.0 (the \"License\");\n",
              "// you may not use this file except in compliance with the License.\n",
              "// You may obtain a copy of the License at\n",
              "//\n",
              "//      http://www.apache.org/licenses/LICENSE-2.0\n",
              "//\n",
              "// Unless required by applicable law or agreed to in writing, software\n",
              "// distributed under the License is distributed on an \"AS IS\" BASIS,\n",
              "// WITHOUT WARRANTIES OR CONDITIONS OF ANY KIND, either express or implied.\n",
              "// See the License for the specific language governing permissions and\n",
              "// limitations under the License.\n",
              "\n",
              "/**\n",
              " * @fileoverview Helpers for google.colab Python module.\n",
              " */\n",
              "(function(scope) {\n",
              "function span(text, styleAttributes = {}) {\n",
              "  const element = document.createElement('span');\n",
              "  element.textContent = text;\n",
              "  for (const key of Object.keys(styleAttributes)) {\n",
              "    element.style[key] = styleAttributes[key];\n",
              "  }\n",
              "  return element;\n",
              "}\n",
              "\n",
              "// Max number of bytes which will be uploaded at a time.\n",
              "const MAX_PAYLOAD_SIZE = 100 * 1024;\n",
              "\n",
              "function _uploadFiles(inputId, outputId) {\n",
              "  const steps = uploadFilesStep(inputId, outputId);\n",
              "  const outputElement = document.getElementById(outputId);\n",
              "  // Cache steps on the outputElement to make it available for the next call\n",
              "  // to uploadFilesContinue from Python.\n",
              "  outputElement.steps = steps;\n",
              "\n",
              "  return _uploadFilesContinue(outputId);\n",
              "}\n",
              "\n",
              "// This is roughly an async generator (not supported in the browser yet),\n",
              "// where there are multiple asynchronous steps and the Python side is going\n",
              "// to poll for completion of each step.\n",
              "// This uses a Promise to block the python side on completion of each step,\n",
              "// then passes the result of the previous step as the input to the next step.\n",
              "function _uploadFilesContinue(outputId) {\n",
              "  const outputElement = document.getElementById(outputId);\n",
              "  const steps = outputElement.steps;\n",
              "\n",
              "  const next = steps.next(outputElement.lastPromiseValue);\n",
              "  return Promise.resolve(next.value.promise).then((value) => {\n",
              "    // Cache the last promise value to make it available to the next\n",
              "    // step of the generator.\n",
              "    outputElement.lastPromiseValue = value;\n",
              "    return next.value.response;\n",
              "  });\n",
              "}\n",
              "\n",
              "/**\n",
              " * Generator function which is called between each async step of the upload\n",
              " * process.\n",
              " * @param {string} inputId Element ID of the input file picker element.\n",
              " * @param {string} outputId Element ID of the output display.\n",
              " * @return {!Iterable<!Object>} Iterable of next steps.\n",
              " */\n",
              "function* uploadFilesStep(inputId, outputId) {\n",
              "  const inputElement = document.getElementById(inputId);\n",
              "  inputElement.disabled = false;\n",
              "\n",
              "  const outputElement = document.getElementById(outputId);\n",
              "  outputElement.innerHTML = '';\n",
              "\n",
              "  const pickedPromise = new Promise((resolve) => {\n",
              "    inputElement.addEventListener('change', (e) => {\n",
              "      resolve(e.target.files);\n",
              "    });\n",
              "  });\n",
              "\n",
              "  const cancel = document.createElement('button');\n",
              "  inputElement.parentElement.appendChild(cancel);\n",
              "  cancel.textContent = 'Cancel upload';\n",
              "  const cancelPromise = new Promise((resolve) => {\n",
              "    cancel.onclick = () => {\n",
              "      resolve(null);\n",
              "    };\n",
              "  });\n",
              "\n",
              "  // Wait for the user to pick the files.\n",
              "  const files = yield {\n",
              "    promise: Promise.race([pickedPromise, cancelPromise]),\n",
              "    response: {\n",
              "      action: 'starting',\n",
              "    }\n",
              "  };\n",
              "\n",
              "  cancel.remove();\n",
              "\n",
              "  // Disable the input element since further picks are not allowed.\n",
              "  inputElement.disabled = true;\n",
              "\n",
              "  if (!files) {\n",
              "    return {\n",
              "      response: {\n",
              "        action: 'complete',\n",
              "      }\n",
              "    };\n",
              "  }\n",
              "\n",
              "  for (const file of files) {\n",
              "    const li = document.createElement('li');\n",
              "    li.append(span(file.name, {fontWeight: 'bold'}));\n",
              "    li.append(span(\n",
              "        `(${file.type || 'n/a'}) - ${file.size} bytes, ` +\n",
              "        `last modified: ${\n",
              "            file.lastModifiedDate ? file.lastModifiedDate.toLocaleDateString() :\n",
              "                                    'n/a'} - `));\n",
              "    const percent = span('0% done');\n",
              "    li.appendChild(percent);\n",
              "\n",
              "    outputElement.appendChild(li);\n",
              "\n",
              "    const fileDataPromise = new Promise((resolve) => {\n",
              "      const reader = new FileReader();\n",
              "      reader.onload = (e) => {\n",
              "        resolve(e.target.result);\n",
              "      };\n",
              "      reader.readAsArrayBuffer(file);\n",
              "    });\n",
              "    // Wait for the data to be ready.\n",
              "    let fileData = yield {\n",
              "      promise: fileDataPromise,\n",
              "      response: {\n",
              "        action: 'continue',\n",
              "      }\n",
              "    };\n",
              "\n",
              "    // Use a chunked sending to avoid message size limits. See b/62115660.\n",
              "    let position = 0;\n",
              "    do {\n",
              "      const length = Math.min(fileData.byteLength - position, MAX_PAYLOAD_SIZE);\n",
              "      const chunk = new Uint8Array(fileData, position, length);\n",
              "      position += length;\n",
              "\n",
              "      const base64 = btoa(String.fromCharCode.apply(null, chunk));\n",
              "      yield {\n",
              "        response: {\n",
              "          action: 'append',\n",
              "          file: file.name,\n",
              "          data: base64,\n",
              "        },\n",
              "      };\n",
              "\n",
              "      let percentDone = fileData.byteLength === 0 ?\n",
              "          100 :\n",
              "          Math.round((position / fileData.byteLength) * 100);\n",
              "      percent.textContent = `${percentDone}% done`;\n",
              "\n",
              "    } while (position < fileData.byteLength);\n",
              "  }\n",
              "\n",
              "  // All done.\n",
              "  yield {\n",
              "    response: {\n",
              "      action: 'complete',\n",
              "    }\n",
              "  };\n",
              "}\n",
              "\n",
              "scope.google = scope.google || {};\n",
              "scope.google.colab = scope.google.colab || {};\n",
              "scope.google.colab._files = {\n",
              "  _uploadFiles,\n",
              "  _uploadFilesContinue,\n",
              "};\n",
              "})(self);\n",
              "</script> "
            ]
          },
          "metadata": {}
        },
        {
          "output_type": "stream",
          "name": "stdout",
          "text": [
            "Saving nandata.csv to nandata (8).csv\n",
            "       A     B  C \n",
            "0    4.0   5.0   6\n",
            "1    4.0   5.0   6\n",
            "2    7.0   8.0   9\n",
            "3    7.0  18.0   9\n",
            "4   10.0  11.0  12\n",
            "5   10.0  11.0  12\n",
            "6   13.0  14.0  15\n",
            "7   12.0  11.0   2\n",
            "8   12.0  11.0   2\n",
            "9    1.0   2.0   3\n",
            "10   4.0   NaN   6\n",
            "11   7.0   NaN   9\n",
            "12  10.0  11.0  12\n",
            "13  13.0  14.0  15\n",
            "14  16.0  17.0  18\n",
            "15   NaN  32.0  45\n",
            "16  33.0   NaN  20\n",
            "       A     B  C \n",
            "0    4.0   5.0   6\n",
            "1    4.0   5.0   6\n",
            "2    7.0   8.0   9\n",
            "3    7.0  18.0   9\n",
            "4   10.0  11.0  12\n",
            "5   10.0  11.0  12\n",
            "6   13.0  14.0  15\n",
            "7   12.0  11.0   2\n",
            "8   12.0  11.0   2\n",
            "9    1.0   2.0   3\n",
            "10   4.0   NaN   6\n",
            "11   7.0   NaN   9\n",
            "12  10.0  11.0  12\n",
            "13  13.0  14.0  15\n",
            "14  16.0  17.0  18\n",
            "15   NaN  32.0  45\n",
            "16  33.0   NaN  20\n",
            "       A          B  C \n",
            "0    4.0   5.000000   6\n",
            "1    4.0   5.000000   6\n",
            "2    7.0   8.000000   9\n",
            "3    7.0  18.000000   9\n",
            "4   10.0  11.000000  12\n",
            "5   10.0  11.000000  12\n",
            "6   13.0  14.000000  15\n",
            "7   12.0  11.000000   2\n",
            "8   12.0  11.000000   2\n",
            "9    1.0   2.000000   3\n",
            "10   4.0  12.142857   6\n",
            "11   7.0  12.142857   9\n",
            "12  10.0  11.000000  12\n",
            "13  13.0  14.000000  15\n",
            "14  16.0  17.000000  18\n",
            "15   NaN  32.000000  45\n",
            "16  33.0  12.142857  20\n",
            "       A          B  C \n",
            "0    4.0   5.000000   6\n",
            "1    4.0   5.000000   6\n",
            "2    7.0   8.000000   9\n",
            "3    7.0  18.000000   9\n",
            "4   10.0  11.000000  12\n",
            "5   10.0  11.000000  12\n",
            "6   13.0  14.000000  15\n",
            "7   12.0  11.000000   2\n",
            "8   12.0  11.000000   2\n",
            "9    1.0   2.000000   3\n",
            "10   4.0  12.142857   6\n",
            "11   7.0  12.142857   9\n",
            "12  10.0  11.000000  12\n",
            "13  13.0  14.000000  15\n",
            "14  16.0  17.000000  18\n",
            "16  33.0  12.142857  20\n",
            "       A          B  C \n",
            "0    4.0   5.000000   6\n",
            "1    4.0   5.000000   6\n",
            "2    7.0   8.000000   9\n",
            "3    7.0  18.000000   9\n",
            "4   10.0  11.000000  12\n",
            "5   10.0  11.000000  12\n",
            "6   13.0  14.000000  15\n",
            "7   12.0  11.000000   2\n",
            "8   12.0  11.000000   2\n",
            "9    1.0   2.000000   3\n",
            "10   4.0  12.142857   6\n",
            "11   7.0  12.142857   9\n",
            "12  10.0  11.000000  12\n",
            "13  13.0  14.000000  15\n",
            "14  16.0  17.000000  18\n",
            "15  33.0  12.142857  20\n",
            "0      True\n",
            "1      True\n",
            "2     False\n",
            "3     False\n",
            "4      True\n",
            "5      True\n",
            "6      True\n",
            "7      True\n",
            "8      True\n",
            "9     False\n",
            "10    False\n",
            "11    False\n",
            "12     True\n",
            "13     True\n",
            "14    False\n",
            "15    False\n",
            "dtype: bool\n"
          ]
        }
      ]
    },
    {
      "cell_type": "code",
      "source": [
        "print(df)"
      ],
      "metadata": {
        "id": "5-vvKWmgbTSo"
      },
      "execution_count": null,
      "outputs": []
    }
  ]
}