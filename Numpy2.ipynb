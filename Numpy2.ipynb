{
  "nbformat": 4,
  "nbformat_minor": 0,
  "metadata": {
    "colab": {
      "provenance": [],
      "authorship_tag": "ABX9TyOsx8l18KkMMpHLqRZkQ4wZ",
      "include_colab_link": true
    },
    "kernelspec": {
      "name": "python3",
      "display_name": "Python 3"
    },
    "language_info": {
      "name": "python"
    }
  },
  "cells": [
    {
      "cell_type": "markdown",
      "metadata": {
        "id": "view-in-github",
        "colab_type": "text"
      },
      "source": [
        "<a href=\"https://colab.research.google.com/github/santhi1712/python_work/blob/main/Numpy2.ipynb\" target=\"_parent\"><img src=\"https://colab.research.google.com/assets/colab-badge.svg\" alt=\"Open In Colab\"/></a>"
      ]
    },
    {
      "cell_type": "code",
      "execution_count": null,
      "metadata": {
        "id": "ml0FFJsQXGuC"
      },
      "outputs": [],
      "source": [
        "import numpy as  np\n",
        "al=np.arange(10)\n",
        "print(al)\n",
        "al2=np.arange(0,10,2)#craetes a range with step 2\n",
        "print(al2)\n",
        "az=np.zeros(4)#craetes an array with all 0's\n",
        "print(az)\n",
        "print(al2.shape)\n",
        "az2=np.zeros((2,4))#creates a two dimensional array with 2 rows and 3 cols\n",
        "print(az2.shape)\n",
        "a5 = np.full((2,3), 8) # array of rank 2 with all 8s\n",
        "print(a5)"
      ]
    },
    {
      "cell_type": "code",
      "source": [
        "import numpy as  np\n",
        "a6 = np.eye(4) # 4x4 identity matrix\n",
        "print(a6)"
      ],
      "metadata": {
        "id": "JByNXBT2gtt9"
      },
      "execution_count": null,
      "outputs": []
    },
    {
      "cell_type": "code",
      "source": [
        "#create an array with randon numbers\n",
        "a7 = np.random.random((2,4)) # rank 2 array (2 rows 4 columns) with\n",
        "print(a7)\n"
      ],
      "metadata": {
        "id": "AceqTT0Gg4HF"
      },
      "execution_count": null,
      "outputs": []
    },
    {
      "cell_type": "code",
      "source": [
        "#create numpy array from list\n",
        "list1 = [1,2,3,4,5]\n",
        "list2 = [7,8,9,10,11]\n",
        "r1 = np.array(list1) # rank 1 array\n",
        "print(r1)\n",
        "print(r1[1])\n",
        "r2=np.array([list1,list2])\n",
        "print(r2)\n",
        "print(r2.shape)\n",
        "print(r2[0,1])\n",
        "print(r2[[1,1]])#use list as index"
      ],
      "metadata": {
        "id": "Yhw6p49dhEg_"
      },
      "execution_count": null,
      "outputs": []
    },
    {
      "cell_type": "code",
      "source": [
        "#slicing arrays\n",
        "a = np.array([[1,2,3,4,5],[4,5,6,7,8],[9,8,7,6,5]])\n",
        "print(a)\n",
        "b1=a[1:3,:3] # row 1 to 3 (not inclusive) and first 3 columns\n",
        "print(b1)\n",
        "b2 = a[-2:,-2:]\n",
        "print(b2)\n",
        "b1[0,2]=10 # when changing reference array element the mail array element is also reflect that change\n",
        "print(\"b1\",b1)\n",
        "print(a)#element 10 i schanges as per above"
      ],
      "metadata": {
        "id": "33YB9vDniJXv"
      },
      "execution_count": null,
      "outputs": []
    },
    {
      "cell_type": "code",
      "source": [
        "#array math\n",
        "x1=np.array([[1,2,3],[8,9,10]])\n",
        "y1=np.array([[4,2,6],[5,2,8]])\n",
        "print(x1+y1)\n",
        "print(np.add(x1,y1))#same as + for add\n",
        "print(x1-y1)#np.subtract(x1,y1)\n",
        "print(x1*y1)#np.multiply(x1,y1)\n",
        "print(x1/y1)#np.divide(x1,y1)"
      ],
      "metadata": {
        "id": "i3lb1RKxldc2"
      },
      "execution_count": null,
      "outputs": []
    },
    {
      "cell_type": "code",
      "source": [
        "names = np.array(['Ann','Joe','Mark'])\n",
        "heights = np.array([1.5, 1.78, 1.6])\n",
        "weights = np.array([65, 46, 59])\n",
        "bmi = weights/heights **2 # calculate the BMI\n",
        "print(bmi)\n",
        "print(\"Overweight: \" , names[bmi>25])\n",
        "# Overweight: ['Ann']\n",
        "print(\"Underweight: \" , names[bmi<18.5])\n",
        "# Underweight: ['Joe']\n",
        "print(\"Healthy: \" , names[(bmi>=18.5) & (bmi<=25)])\n",
        "# Healthy: ['Mark']\n"
      ],
      "metadata": {
        "id": "SiSueI4PplgI"
      },
      "execution_count": null,
      "outputs": []
    },
    {
      "cell_type": "code",
      "source": [
        "#dot product\n",
        "x = np.array([2,3])\n",
        "y = np.array([4,2])\n",
        "print(np.dot(x,y)) # 2x4 + 3x2 = 14\n",
        "x2 = np.array([[1,2,3],[4,5,6]])\n",
        "y2 = np.array([[7,8],[9,10], [11,12]])\n",
        "print(np.dot(x2,y2)) # matrix multiplication\n"
      ],
      "metadata": {
        "id": "ZEumxrhFqTEx"
      },
      "execution_count": null,
      "outputs": []
    },
    {
      "cell_type": "code",
      "source": [
        "#matrix is strictly 2 dimensional while ndarray is multi dimensional\n",
        "x2 = np.matrix([[1,2],[4,5]])\n",
        "y2 = np.matrix([[7,8],[2,3]])\n",
        "print(x2*y2)#it is a dot matrix where as for arrays it is element by elemnt\n",
        "x1=np.array([[1,2],[3,4]])\n",
        "print(x1)\n",
        "x3=np.asmatrix(x1)#convert numpy array into matrix\n",
        "print(x3)"
      ],
      "metadata": {
        "colab": {
          "base_uri": "https://localhost:8080/"
        },
        "id": "q4BGMK6Gqw52",
        "outputId": "9a3db2ab-e7c6-4146-f22b-8fc63f79ac18"
      },
      "execution_count": 60,
      "outputs": [
        {
          "output_type": "stream",
          "name": "stdout",
          "text": [
            "[[11 14]\n",
            " [38 47]]\n",
            "[[1 2]\n",
            " [3 4]]\n",
            "[[1 2]\n",
            " [3 4]]\n"
          ]
        }
      ]
    },
    {
      "cell_type": "code",
      "source": [
        "a = np.array([(1,2,3),(4,5,6), (7,8,9)])\n",
        "print(a)\n",
        "print(a.cumsum())#print the culmilative sum of elemnts in array\n",
        "print(a.cumsum(axis=1)) # sum over columns for each of the 3 rows\n",
        "print(a.cumsum(axis=0)) # sum over columns for each of the 3 rows"
      ],
      "metadata": {
        "colab": {
          "base_uri": "https://localhost:8080/"
        },
        "id": "raVg6H_2zKOK",
        "outputId": "bbd30770-81a7-4f9b-83de-f9d8a573e102"
      },
      "execution_count": 65,
      "outputs": [
        {
          "output_type": "stream",
          "name": "stdout",
          "text": [
            "[[1 2 3]\n",
            " [4 5 6]\n",
            " [7 8 9]]\n",
            "[ 1  3  6 10 15 21 28 36 45]\n",
            "[[ 1  3  6]\n",
            " [ 4  9 15]\n",
            " [ 7 15 24]]\n",
            "[[ 1  2  3]\n",
            " [ 5  7  9]\n",
            " [12 15 18]]\n"
          ]
        }
      ]
    },
    {
      "cell_type": "code",
      "source": [
        "#numpy sorting\n",
        "age=np.array([30,23,10,21,4])\n",
        "sorted_age=np.sort(age)\n",
        "print(sorted_age)\n",
        "print(np.argsort(age))#returns the indices of elements\n"
      ],
      "metadata": {
        "colab": {
          "base_uri": "https://localhost:8080/"
        },
        "id": "jWotEHbyzySj",
        "outputId": "e3e53776-1f1d-4133-9d4e-1512e60b5433"
      },
      "execution_count": 67,
      "outputs": [
        {
          "output_type": "stream",
          "name": "stdout",
          "text": [
            "[ 4 10 21 23 30]\n",
            "[4 2 3 1 0]\n"
          ]
        }
      ]
    },
    {
      "cell_type": "code",
      "source": [
        " persons = np.array(['Johnny','Mary','Peter','Will','Joe'])\n",
        " ages = np.array([34,12,37,5,13])\n",
        " heights = np.array([1.76,1.2,1.68,0.5,1.25])\n",
        " sort_indices=np.argsort(ages)\n",
        " reverse_sort_indices=np.argsort(ages)[::-1]#reverse the order of list\n",
        " #so based on sort_indices it will get the results below\n",
        " print(persons[sort_indices])\n",
        " print(heights[sort_indices])\n",
        " print(persons[reverse_sort_indices])\n",
        " print(heights[reverse_sort_indices])"
      ],
      "metadata": {
        "colab": {
          "base_uri": "https://localhost:8080/"
        },
        "id": "3WbgdOZn0hC0",
        "outputId": "d652fbee-258a-4c64-e994-6755826bae23"
      },
      "execution_count": 69,
      "outputs": [
        {
          "output_type": "stream",
          "name": "stdout",
          "text": [
            "['Will' 'Mary' 'Joe' 'Johnny' 'Peter']\n",
            "[0.5  1.2  1.25 1.76 1.68]\n",
            "['Peter' 'Johnny' 'Joe' 'Mary' 'Will']\n",
            "[1.68 1.76 1.25 1.2  0.5 ]\n"
          ]
        }
      ]
    },
    {
      "cell_type": "code",
      "source": [
        "#craete a copy of array\n",
        "list1 = [[1,2,3,4], [5,6,7,8]]\n",
        "a1 = np.array(list1)\n",
        "print(a1)\n",
        "a2=a1\n",
        "print(a2)\n",
        "a2[0][0]=50#changes made to a2 effects a1 as well\n",
        "print(a2)\n",
        "print(a1)\n",
        "a1.shape=1,-1\n",
        "print(a1)\n",
        "print(a2)\n",
        "a2=a1.view()#creates a copy of a1 by reference but changes in dimension in a1 not effect a2\n",
        "print(a2)\n"
      ],
      "metadata": {
        "colab": {
          "base_uri": "https://localhost:8080/"
        },
        "id": "BWiOkjNQ1li3",
        "outputId": "84c04e75-657f-4fa9-cfa2-5ef914b86b98"
      },
      "execution_count": 75,
      "outputs": [
        {
          "output_type": "stream",
          "name": "stdout",
          "text": [
            "[[1 2 3 4]\n",
            " [5 6 7 8]]\n",
            "[[1 2 3 4]\n",
            " [5 6 7 8]]\n",
            "[[50  2  3  4]\n",
            " [ 5  6  7  8]]\n",
            "[[50  2  3  4]\n",
            " [ 5  6  7  8]]\n",
            "[[50  2  3  4  5  6  7  8]]\n",
            "[[50  2  3  4  5  6  7  8]]\n",
            "[[50  2  3  4  5  6  7  8]]\n"
          ]
        }
      ]
    }
  ]
}