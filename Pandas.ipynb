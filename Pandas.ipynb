{
  "nbformat": 4,
  "nbformat_minor": 0,
  "metadata": {
    "colab": {
      "provenance": [],
      "authorship_tag": "ABX9TyP2RsFymq41gwXnbaBUqvyE",
      "include_colab_link": true
    },
    "kernelspec": {
      "name": "python3",
      "display_name": "Python 3"
    },
    "language_info": {
      "name": "python"
    }
  },
  "cells": [
    {
      "cell_type": "markdown",
      "metadata": {
        "id": "view-in-github",
        "colab_type": "text"
      },
      "source": [
        "<a href=\"https://colab.research.google.com/github/santhi1712/python_work/blob/main/Pandas.ipynb\" target=\"_parent\"><img src=\"https://colab.research.google.com/assets/colab-badge.svg\" alt=\"Open In Colab\"/></a>"
      ]
    },
    {
      "cell_type": "code",
      "execution_count": null,
      "metadata": {
        "id": "utSzDI8syIK6"
      },
      "outputs": [],
      "source": [
        "import pandas as pd\n",
        "from google.colab import files\n",
        "uploaded = files.upload()\n",
        "df = pd.read_csv(\"admin_boundary.csv\")\n",
        "print(\"dataframe df:\")\n",
        "df"
      ]
    },
    {
      "cell_type": "code",
      "source": [
        "import pandas as pd\n",
        "import numpy as np\n",
        "myvector1 = np.array([1,2,3,4,5])\n",
        "print(\"myvector1:\")\n",
        "print(myvector1)\n",
        "print()\n",
        "mydf1 = pd.DataFrame(myvector1)\n",
        "print(\"mydf1:\")\n",
        "print(mydf1)\n",
        "print()\n",
        "myvector2 = np.array([i for i in range(1,6)])\n",
        "print(\"myvector2:\")\n",
        "print(myvector2)\n",
        "print()\n",
        "mydf2 = pd.DataFrame(myvector2)\n",
        "print(\"mydf2:\")\n",
        "print(mydf2)\n",
        "print()\n",
        "myarray = np.array([[10,30,20], [50,40,60],[1000,2000,3000]])\n",
        "print(\"myarray:\")\n",
        "print(myarray)\n",
        "print()\n",
        "mydf3 = pd.DataFrame(myarray)\n",
        "print(\"mydf3:\")\n",
        "print(mydf3)\n",
        "print()"
      ],
      "metadata": {
        "id": "ia_bj587zXgs"
      },
      "execution_count": null,
      "outputs": []
    },
    {
      "cell_type": "code",
      "source": [
        "names = pd.Series(['SF', 'San Jose', 'Sacramento'])\n",
        "sizes = pd.Series([852469, 1015785, 485199])\n",
        "df = pd.DataFrame({ 'Cities': names, 'Size': sizes })\n",
        "print(df)"
      ],
      "metadata": {
        "id": "LTjqZPGnFeIb"
      },
      "execution_count": null,
      "outputs": []
    },
    {
      "cell_type": "code",
      "source": [
        "myarray = np.array([[10,30,20], [50,40,60],[1000,2000,3000],[34,100,54]])\n",
        "rownames = ['apples', 'oranges', 'beer','peers']\n",
        "colnames = ['January', 'February', 'March']\n",
        "mydf = pd.DataFrame(myarray, index=rownames, columns=colnames)\n",
        "print(\"contents of df:\")\n",
        "print(mydf)\n",
        "print(mydf.columns)\n",
        "print(mydf.shape[0])\n",
        "print(mydf.dtypes)\n",
        "print(mydf.describe())"
      ],
      "metadata": {
        "id": "ohiX9SYoGEHQ"
      },
      "execution_count": null,
      "outputs": []
    },
    {
      "cell_type": "code",
      "source": [
        "df1 = pd.DataFrame({'a' : [1, 0, 1], 'b' : [0, 1, 1] },\n",
        "dtype=int)\n",
        "df2 = pd.DataFrame({'a' : [3, 3, 3], 'b' : [5, 5, 5] },\n",
        "dtype=int)\n",
        "print(df1+df2)\n",
        "print(df1-df2)"
      ],
      "metadata": {
        "colab": {
          "base_uri": "https://localhost:8080/"
        },
        "id": "_op0-eKXJwZO",
        "outputId": "ac56e87b-991a-4bbe-8fc3-2231df68f1bd"
      },
      "execution_count": null,
      "outputs": [
        {
          "output_type": "stream",
          "name": "stdout",
          "text": [
            "   a  b\n",
            "0  4  5\n",
            "1  3  6\n",
            "2  4  6\n",
            "   a  b\n",
            "0 -2 -5\n",
            "1 -3 -4\n",
            "2 -2 -4\n"
          ]
        }
      ]
    },
    {
      "cell_type": "code",
      "source": [
        "import pandas as pd\n",
        "import numpy as np\n",
        "df = pd.DataFrame(np.random.randint(1, 5, size=(5, 2)),\n",
        "columns=['a','b'])\n",
        "df = df.append(df.agg(['sum', 'mean']))\n",
        "print(\"Contents of dataframe:\")\n",
        "print(df)"
      ],
      "metadata": {
        "colab": {
          "base_uri": "https://localhost:8080/"
        },
        "id": "-IWuXWF-Ks2X",
        "outputId": "9108657b-6e9f-4018-edfd-5d87b4a02976"
      },
      "execution_count": null,
      "outputs": [
        {
          "output_type": "stream",
          "name": "stdout",
          "text": [
            "Contents of dataframe:\n",
            "         a     b\n",
            "0      2.0   3.0\n",
            "1      3.0   2.0\n",
            "2      4.0   2.0\n",
            "3      2.0   1.0\n",
            "4      3.0   3.0\n",
            "sum   14.0  11.0\n",
            "mean   2.8   2.2\n"
          ]
        },
        {
          "output_type": "stream",
          "name": "stderr",
          "text": [
            "<ipython-input-30-11609d679dad>:5: FutureWarning: The frame.append method is deprecated and will be removed from pandas in a future version. Use pandas.concat instead.\n",
            "  df = df.append(df.agg(['sum', 'mean']))\n"
          ]
        }
      ]
    },
    {
      "cell_type": "code",
      "source": [
        "import pandas as pd\n",
        "import numpy as np\n",
        "df = pd.DataFrame({'foo1' : np.random.randn(5),\n",
        " 'foo2' : np.random.randn(5)})\n",
        "print(\"contents of df:\")\n",
        "print(df)\n",
        "print(\"contents of foo1:\")\n",
        "print(df.foo1)\n",
        "print(\"contents of foo2:\")\n",
        "print(df.foo2)\n",
        "print(df.head(2))"
      ],
      "metadata": {
        "colab": {
          "base_uri": "https://localhost:8080/"
        },
        "id": "DQc__kB2MCIV",
        "outputId": "09bc2a44-9d94-4e40-ac81-af5b667620d4"
      },
      "execution_count": null,
      "outputs": [
        {
          "output_type": "stream",
          "name": "stdout",
          "text": [
            "contents of df:\n",
            "       foo1      foo2\n",
            "0  0.607738 -0.056985\n",
            "1  0.916962 -1.624817\n",
            "2 -1.263189 -0.641382\n",
            "3  0.855502  0.177310\n",
            "4 -1.102157 -0.914037\n",
            "contents of foo1:\n",
            "0    0.607738\n",
            "1    0.916962\n",
            "2   -1.263189\n",
            "3    0.855502\n",
            "4   -1.102157\n",
            "Name: foo1, dtype: float64\n",
            "contents of foo2:\n",
            "0   -0.056985\n",
            "1   -1.624817\n",
            "2   -0.641382\n",
            "3    0.177310\n",
            "4   -0.914037\n",
            "Name: foo2, dtype: float64\n",
            "       foo1      foo2\n",
            "0  0.607738 -0.056985\n",
            "1  0.916962 -1.624817\n"
          ]
        }
      ]
    }
  ]
}