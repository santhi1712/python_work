{
  "nbformat": 4,
  "nbformat_minor": 0,
  "metadata": {
    "colab": {
      "provenance": [],
      "authorship_tag": "ABX9TyPhYo8xBCR2UdGvQrHQK9n9",
      "include_colab_link": true
    },
    "kernelspec": {
      "name": "python3",
      "display_name": "Python 3"
    },
    "language_info": {
      "name": "python"
    }
  },
  "cells": [
    {
      "cell_type": "markdown",
      "metadata": {
        "id": "view-in-github",
        "colab_type": "text"
      },
      "source": [
        "<a href=\"https://colab.research.google.com/github/santhi1712/python_work/blob/main/pandas_new.ipynb\" target=\"_parent\"><img src=\"https://colab.research.google.com/assets/colab-badge.svg\" alt=\"Open In Colab\"/></a>"
      ]
    },
    {
      "cell_type": "code",
      "execution_count": 1,
      "metadata": {
        "colab": {
          "base_uri": "https://localhost:8080/"
        },
        "id": "exahGXyleLcs",
        "outputId": "9eba22f0-e676-4889-b8cf-f47a53ecb0bf"
      },
      "outputs": [
        {
          "output_type": "stream",
          "name": "stdout",
          "text": [
            "0    1\n",
            "1    2\n",
            "2    3\n",
            "3    4\n",
            "4    5\n",
            "dtype: int64\n"
          ]
        }
      ],
      "source": [
        "#pandas series\n",
        "import pandas as pd\n",
        "series = pd.Series([1,2,3,4,5])\n",
        "print(series)\n"
      ]
    },
    {
      "cell_type": "code",
      "source": [
        "#specify an optional index for a Series using the index parameter\n",
        "series = pd.Series([1,2,3,4,5], index=['a','b','c','d','c'])\n",
        "print(series)\n",
        "print(series[2])\n",
        " # same as\n",
        "print(series.iloc[2])\n",
        "print(series['d'])\n",
        "print(series[2:])"
      ],
      "metadata": {
        "id": "flP04qErfjsQ"
      },
      "execution_count": null,
      "outputs": []
    },
    {
      "cell_type": "code",
      "source": [
        "#create a timeseries, such as a running sequence of dates in a month.date_range will do that\n",
        "dates1 = pd.date_range('20190525', periods=12) #default frequency is \"D\"\n",
        "print(dates1)\n",
        "#To assign the range of dates as the index of a Series, use the index property\n",
        "series = pd.Series([1,2,3,4,5,6,7,8,9,10,11,12])\n",
        "series.index = dates1\n",
        "print(series)"
      ],
      "metadata": {
        "colab": {
          "base_uri": "https://localhost:8080/"
        },
        "id": "MuqRMUO_geLN",
        "outputId": "0a933a6d-83c5-475c-f1a0-b3afc53ef325"
      },
      "execution_count": 12,
      "outputs": [
        {
          "output_type": "stream",
          "name": "stdout",
          "text": [
            "DatetimeIndex(['2019-05-25', '2019-05-26', '2019-05-27', '2019-05-28',\n",
            "               '2019-05-29', '2019-05-30', '2019-05-31', '2019-06-01',\n",
            "               '2019-06-02', '2019-06-03', '2019-06-04', '2019-06-05'],\n",
            "              dtype='datetime64[ns]', freq='D')\n",
            "2019-05-25     1\n",
            "2019-05-26     2\n",
            "2019-05-27     3\n",
            "2019-05-28     4\n",
            "2019-05-29     5\n",
            "2019-05-30     6\n",
            "2019-05-31     7\n",
            "2019-06-01     8\n",
            "2019-06-02     9\n",
            "2019-06-03    10\n",
            "2019-06-04    11\n",
            "2019-06-05    12\n",
            "Freq: D, dtype: int64\n"
          ]
        }
      ]
    },
    {
      "cell_type": "code",
      "source": [
        "dates2 = pd.date_range('2019-05-01', periods=3, freq='M') #we can specify the frequency with \" freq\" parameter\n",
        "print(dates2)\n",
        "dates3 = pd.date_range('2019-05-01', periods=3, freq='MS') #To get the date as start of the month date use \"MS\"\n",
        "print(dates3)"
      ],
      "metadata": {
        "colab": {
          "base_uri": "https://localhost:8080/"
        },
        "id": "xbPnq5C1hDf-",
        "outputId": "f44dcc65-9da5-4d76-a4dd-aadb12360787"
      },
      "execution_count": 16,
      "outputs": [
        {
          "output_type": "stream",
          "name": "stdout",
          "text": [
            "DatetimeIndex(['2019-05-31', '2019-06-30', '2019-07-31'], dtype='datetime64[ns]', freq='M')\n",
            "DatetimeIndex(['2019-05-01', '2019-06-01', '2019-07-01'], dtype='datetime64[ns]', freq='MS')\n"
          ]
        }
      ]
    },
    {
      "cell_type": "code",
      "source": [
        "import pandas as pd\n",
        "import numpy as np\n",
        "df = pd.DataFrame(np.random.randn(10,4), #Dataframe of 10 rows and 4 cols\n",
        "                  columns=list('ABCD'))\n",
        "print(df)\n"
      ],
      "metadata": {
        "id": "rgXzwLF5idZQ"
      },
      "execution_count": null,
      "outputs": []
    },
    {
      "cell_type": "code",
      "source": [
        "import pandas as pd\n",
        "from google.colab import files\n",
        "uploaded = files.upload()\n",
        "df = pd.read_csv(\"data.csv\")\n",
        "print(df)\n",
        "days = pd.date_range('20190525', periods=10)\n",
        "df.index = days\n",
        "print(df)\n",
        "print(df.index)"
      ],
      "metadata": {
        "colab": {
          "base_uri": "https://localhost:8080/",
          "height": 524
        },
        "id": "7ciWwutpjHwc",
        "outputId": "92987e58-34d8-4895-8cdc-868e8f699a83"
      },
      "execution_count": 3,
      "outputs": [
        {
          "output_type": "display_data",
          "data": {
            "text/plain": [
              "<IPython.core.display.HTML object>"
            ],
            "text/html": [
              "\n",
              "     <input type=\"file\" id=\"files-c5ca231f-b4ea-4a93-a237-1f9f211ceac5\" name=\"files[]\" multiple disabled\n",
              "        style=\"border:none\" />\n",
              "     <output id=\"result-c5ca231f-b4ea-4a93-a237-1f9f211ceac5\">\n",
              "      Upload widget is only available when the cell has been executed in the\n",
              "      current browser session. Please rerun this cell to enable.\n",
              "      </output>\n",
              "      <script>// Copyright 2017 Google LLC\n",
              "//\n",
              "// Licensed under the Apache License, Version 2.0 (the \"License\");\n",
              "// you may not use this file except in compliance with the License.\n",
              "// You may obtain a copy of the License at\n",
              "//\n",
              "//      http://www.apache.org/licenses/LICENSE-2.0\n",
              "//\n",
              "// Unless required by applicable law or agreed to in writing, software\n",
              "// distributed under the License is distributed on an \"AS IS\" BASIS,\n",
              "// WITHOUT WARRANTIES OR CONDITIONS OF ANY KIND, either express or implied.\n",
              "// See the License for the specific language governing permissions and\n",
              "// limitations under the License.\n",
              "\n",
              "/**\n",
              " * @fileoverview Helpers for google.colab Python module.\n",
              " */\n",
              "(function(scope) {\n",
              "function span(text, styleAttributes = {}) {\n",
              "  const element = document.createElement('span');\n",
              "  element.textContent = text;\n",
              "  for (const key of Object.keys(styleAttributes)) {\n",
              "    element.style[key] = styleAttributes[key];\n",
              "  }\n",
              "  return element;\n",
              "}\n",
              "\n",
              "// Max number of bytes which will be uploaded at a time.\n",
              "const MAX_PAYLOAD_SIZE = 100 * 1024;\n",
              "\n",
              "function _uploadFiles(inputId, outputId) {\n",
              "  const steps = uploadFilesStep(inputId, outputId);\n",
              "  const outputElement = document.getElementById(outputId);\n",
              "  // Cache steps on the outputElement to make it available for the next call\n",
              "  // to uploadFilesContinue from Python.\n",
              "  outputElement.steps = steps;\n",
              "\n",
              "  return _uploadFilesContinue(outputId);\n",
              "}\n",
              "\n",
              "// This is roughly an async generator (not supported in the browser yet),\n",
              "// where there are multiple asynchronous steps and the Python side is going\n",
              "// to poll for completion of each step.\n",
              "// This uses a Promise to block the python side on completion of each step,\n",
              "// then passes the result of the previous step as the input to the next step.\n",
              "function _uploadFilesContinue(outputId) {\n",
              "  const outputElement = document.getElementById(outputId);\n",
              "  const steps = outputElement.steps;\n",
              "\n",
              "  const next = steps.next(outputElement.lastPromiseValue);\n",
              "  return Promise.resolve(next.value.promise).then((value) => {\n",
              "    // Cache the last promise value to make it available to the next\n",
              "    // step of the generator.\n",
              "    outputElement.lastPromiseValue = value;\n",
              "    return next.value.response;\n",
              "  });\n",
              "}\n",
              "\n",
              "/**\n",
              " * Generator function which is called between each async step of the upload\n",
              " * process.\n",
              " * @param {string} inputId Element ID of the input file picker element.\n",
              " * @param {string} outputId Element ID of the output display.\n",
              " * @return {!Iterable<!Object>} Iterable of next steps.\n",
              " */\n",
              "function* uploadFilesStep(inputId, outputId) {\n",
              "  const inputElement = document.getElementById(inputId);\n",
              "  inputElement.disabled = false;\n",
              "\n",
              "  const outputElement = document.getElementById(outputId);\n",
              "  outputElement.innerHTML = '';\n",
              "\n",
              "  const pickedPromise = new Promise((resolve) => {\n",
              "    inputElement.addEventListener('change', (e) => {\n",
              "      resolve(e.target.files);\n",
              "    });\n",
              "  });\n",
              "\n",
              "  const cancel = document.createElement('button');\n",
              "  inputElement.parentElement.appendChild(cancel);\n",
              "  cancel.textContent = 'Cancel upload';\n",
              "  const cancelPromise = new Promise((resolve) => {\n",
              "    cancel.onclick = () => {\n",
              "      resolve(null);\n",
              "    };\n",
              "  });\n",
              "\n",
              "  // Wait for the user to pick the files.\n",
              "  const files = yield {\n",
              "    promise: Promise.race([pickedPromise, cancelPromise]),\n",
              "    response: {\n",
              "      action: 'starting',\n",
              "    }\n",
              "  };\n",
              "\n",
              "  cancel.remove();\n",
              "\n",
              "  // Disable the input element since further picks are not allowed.\n",
              "  inputElement.disabled = true;\n",
              "\n",
              "  if (!files) {\n",
              "    return {\n",
              "      response: {\n",
              "        action: 'complete',\n",
              "      }\n",
              "    };\n",
              "  }\n",
              "\n",
              "  for (const file of files) {\n",
              "    const li = document.createElement('li');\n",
              "    li.append(span(file.name, {fontWeight: 'bold'}));\n",
              "    li.append(span(\n",
              "        `(${file.type || 'n/a'}) - ${file.size} bytes, ` +\n",
              "        `last modified: ${\n",
              "            file.lastModifiedDate ? file.lastModifiedDate.toLocaleDateString() :\n",
              "                                    'n/a'} - `));\n",
              "    const percent = span('0% done');\n",
              "    li.appendChild(percent);\n",
              "\n",
              "    outputElement.appendChild(li);\n",
              "\n",
              "    const fileDataPromise = new Promise((resolve) => {\n",
              "      const reader = new FileReader();\n",
              "      reader.onload = (e) => {\n",
              "        resolve(e.target.result);\n",
              "      };\n",
              "      reader.readAsArrayBuffer(file);\n",
              "    });\n",
              "    // Wait for the data to be ready.\n",
              "    let fileData = yield {\n",
              "      promise: fileDataPromise,\n",
              "      response: {\n",
              "        action: 'continue',\n",
              "      }\n",
              "    };\n",
              "\n",
              "    // Use a chunked sending to avoid message size limits. See b/62115660.\n",
              "    let position = 0;\n",
              "    do {\n",
              "      const length = Math.min(fileData.byteLength - position, MAX_PAYLOAD_SIZE);\n",
              "      const chunk = new Uint8Array(fileData, position, length);\n",
              "      position += length;\n",
              "\n",
              "      const base64 = btoa(String.fromCharCode.apply(null, chunk));\n",
              "      yield {\n",
              "        response: {\n",
              "          action: 'append',\n",
              "          file: file.name,\n",
              "          data: base64,\n",
              "        },\n",
              "      };\n",
              "\n",
              "      let percentDone = fileData.byteLength === 0 ?\n",
              "          100 :\n",
              "          Math.round((position / fileData.byteLength) * 100);\n",
              "      percent.textContent = `${percentDone}% done`;\n",
              "\n",
              "    } while (position < fileData.byteLength);\n",
              "  }\n",
              "\n",
              "  // All done.\n",
              "  yield {\n",
              "    response: {\n",
              "      action: 'complete',\n",
              "    }\n",
              "  };\n",
              "}\n",
              "\n",
              "scope.google = scope.google || {};\n",
              "scope.google.colab = scope.google.colab || {};\n",
              "scope.google.colab._files = {\n",
              "  _uploadFiles,\n",
              "  _uploadFilesContinue,\n",
              "};\n",
              "})(self);\n",
              "</script> "
            ]
          },
          "metadata": {}
        },
        {
          "output_type": "stream",
          "name": "stdout",
          "text": [
            "Saving data.csv to data.csv\n",
            "          A         B         C         D\n",
            "0  0.187497  1.122150 -0.988277 -1.985934\n",
            "1  0.360803 -0.562243 -0.340693 -0.986988\n",
            "2 -0.040627  0.067333 -0.452978  0.686223\n",
            "3 -0.279572 -0.702492  0.252265  0.958977\n",
            "4  0.537438 -1.737568  0.714727 -0.939288\n",
            "5  0.070011 -0.516443 -1.655689  0.246721\n",
            "6  0.001268  0.951517  2.107360 -0.108726\n",
            "7 -0.185258  0.856520 -0.686285  1.104195\n",
            "8  0.387023  1.706336 -2.452653  0.260466\n",
            "9 -1.054974  0.556775 -0.945219 -0.030295\n",
            "                   A         B         C         D\n",
            "2019-05-25  0.187497  1.122150 -0.988277 -1.985934\n",
            "2019-05-26  0.360803 -0.562243 -0.340693 -0.986988\n",
            "2019-05-27 -0.040627  0.067333 -0.452978  0.686223\n",
            "2019-05-28 -0.279572 -0.702492  0.252265  0.958977\n",
            "2019-05-29  0.537438 -1.737568  0.714727 -0.939288\n",
            "2019-05-30  0.070011 -0.516443 -1.655689  0.246721\n",
            "2019-05-31  0.001268  0.951517  2.107360 -0.108726\n",
            "2019-06-01 -0.185258  0.856520 -0.686285  1.104195\n",
            "2019-06-02  0.387023  1.706336 -2.452653  0.260466\n",
            "2019-06-03 -1.054974  0.556775 -0.945219 -0.030295\n",
            "DatetimeIndex(['2019-05-25', '2019-05-26', '2019-05-27', '2019-05-28',\n",
            "               '2019-05-29', '2019-05-30', '2019-05-31', '2019-06-01',\n",
            "               '2019-06-02', '2019-06-03'],\n",
            "              dtype='datetime64[ns]', freq='D')\n"
          ]
        }
      ]
    },
    {
      "cell_type": "code",
      "source": [
        "#detailed statistics about the values in the DataFrame\n",
        "print(df.describe())"
      ],
      "metadata": {
        "colab": {
          "base_uri": "https://localhost:8080/"
        },
        "id": "TMkRyTIvk30x",
        "outputId": "8a6e6691-889e-4067-86af-7d24b927e9e2"
      },
      "execution_count": 23,
      "outputs": [
        {
          "output_type": "stream",
          "name": "stdout",
          "text": [
            "               A          B          C          D\n",
            "count  10.000000  10.000000  10.000000  10.000000\n",
            "mean   -0.001639   0.174188  -0.444744  -0.079465\n",
            "std     0.451656   1.049677   1.267397   0.971164\n",
            "min    -1.054974  -1.737568  -2.452653  -1.985934\n",
            "25%    -0.149100  -0.550793  -0.977513  -0.731648\n",
            "50%     0.035640   0.312054  -0.569632   0.108213\n",
            "75%     0.317476   0.927768   0.104025   0.579784\n",
            "max     0.537438   1.706336   2.107360   1.104195\n"
          ]
        }
      ]
    },
    {
      "cell_type": "code",
      "source": [
        "#the mean in the DataFrame\n",
        "print(df.mean(0)) # 0 means compute the mean for each columns\n",
        "print(df.mean(1)) # 1 means compute the mean for each row"
      ],
      "metadata": {
        "colab": {
          "base_uri": "https://localhost:8080/"
        },
        "id": "C5HE5xeIlG54",
        "outputId": "67df78dc-6b55-42d1-a410-a99ff5c59f20"
      },
      "execution_count": 4,
      "outputs": [
        {
          "output_type": "stream",
          "name": "stdout",
          "text": [
            "A   -0.001639\n",
            "B    0.174188\n",
            "C   -0.444744\n",
            "D   -0.079465\n",
            "dtype: float64\n",
            "2019-05-25   -0.416141\n",
            "2019-05-26   -0.382280\n",
            "2019-05-27    0.064988\n",
            "2019-05-28    0.057294\n",
            "2019-05-29   -0.356173\n",
            "2019-05-30   -0.463850\n",
            "2019-05-31    0.737855\n",
            "2019-06-01    0.272293\n",
            "2019-06-02   -0.024707\n",
            "2019-06-03   -0.368428\n",
            "Freq: D, dtype: float64\n"
          ]
        }
      ]
    },
    {
      "cell_type": "code",
      "source": [
        "#get first and last 5 rows\n",
        "print(df.head()) #default 5\n",
        "print(df.tail())\n",
        "print(df.head(2))#to get specific count of records"
      ],
      "metadata": {
        "colab": {
          "base_uri": "https://localhost:8080/"
        },
        "id": "GabFy4Osljra",
        "outputId": "7576852a-eef3-432d-8d61-1bce34c350c8"
      },
      "execution_count": 26,
      "outputs": [
        {
          "output_type": "stream",
          "name": "stdout",
          "text": [
            "                   A         B         C         D\n",
            "2019-05-25  0.187497  1.122150 -0.988277 -1.985934\n",
            "2019-05-26  0.360803 -0.562243 -0.340693 -0.986988\n",
            "2019-05-27 -0.040627  0.067333 -0.452978  0.686223\n",
            "2019-05-28 -0.279572 -0.702492  0.252265  0.958977\n",
            "2019-05-29  0.537438 -1.737568  0.714727 -0.939288\n",
            "                   A         B         C         D\n",
            "2019-05-30  0.070011 -0.516443 -1.655689  0.246721\n",
            "2019-05-31  0.001268  0.951517  2.107360 -0.108726\n",
            "2019-06-01 -0.185258  0.856520 -0.686285  1.104195\n",
            "2019-06-02  0.387023  1.706336 -2.452653  0.260466\n",
            "2019-06-03 -1.054974  0.556775 -0.945219 -0.030295\n",
            "                   A         B         C         D\n",
            "2019-05-25  0.187497  1.122150 -0.988277 -1.985934\n",
            "2019-05-26  0.360803 -0.562243 -0.340693 -0.986988\n"
          ]
        }
      ]
    },
    {
      "cell_type": "code",
      "source": [
        "print(df.A)# Same below\n",
        "print(df['A'])"
      ],
      "metadata": {
        "id": "WiMMQtHKr5kR"
      },
      "execution_count": null,
      "outputs": []
    },
    {
      "cell_type": "code",
      "source": [
        "#get range of values\n",
        "print(df[2:5])#same as below\n",
        "print(df.iloc[2:5])\n",
        "print(df.iloc[2,3])#to get specific values/rows not range of rows 2nd row ,3 column\n",
        "print(df.iloc[2]) #to get specific row(entire)"
      ],
      "metadata": {
        "colab": {
          "base_uri": "https://localhost:8080/"
        },
        "id": "KypjkQkksGwL",
        "outputId": "a319fe89-b96c-4e55-dcf9-e533fa7b1f3a"
      },
      "execution_count": 33,
      "outputs": [
        {
          "output_type": "stream",
          "name": "stdout",
          "text": [
            "                   A         B         C         D\n",
            "2019-05-27 -0.040627  0.067333 -0.452978  0.686223\n",
            "2019-05-28 -0.279572 -0.702492  0.252265  0.958977\n",
            "2019-05-29  0.537438 -1.737568  0.714727 -0.939288\n",
            "                   A         B         C         D\n",
            "2019-05-27 -0.040627  0.067333 -0.452978  0.686223\n",
            "2019-05-28 -0.279572 -0.702492  0.252265  0.958977\n",
            "2019-05-29  0.537438 -1.737568  0.714727 -0.939288\n",
            "0.686223\n",
            "A   -0.040627\n",
            "B    0.067333\n",
            "C   -0.452978\n",
            "D    0.686223\n",
            "Name: 2019-05-27 00:00:00, dtype: float64\n"
          ]
        }
      ]
    },
    {
      "cell_type": "code",
      "source": [
        "print(df)\n",
        "print(df.iloc[2:4, 1:6])#extracts row numbers 2 to 3,and column numbers 1 to 3:\n",
        "print(df.iloc[[2,4], [1,3]]) #statement prints out row numbers 2 and 4, and column numbers 1 and 3"
      ],
      "metadata": {
        "colab": {
          "base_uri": "https://localhost:8080/"
        },
        "id": "eun_Gwknt1j1",
        "outputId": "7530420a-b127-4069-a022-86581425ac71"
      },
      "execution_count": 5,
      "outputs": [
        {
          "output_type": "stream",
          "name": "stdout",
          "text": [
            "                   A         B         C         D\n",
            "2019-05-25  0.187497  1.122150 -0.988277 -1.985934\n",
            "2019-05-26  0.360803 -0.562243 -0.340693 -0.986988\n",
            "2019-05-27 -0.040627  0.067333 -0.452978  0.686223\n",
            "2019-05-28 -0.279572 -0.702492  0.252265  0.958977\n",
            "2019-05-29  0.537438 -1.737568  0.714727 -0.939288\n",
            "2019-05-30  0.070011 -0.516443 -1.655689  0.246721\n",
            "2019-05-31  0.001268  0.951517  2.107360 -0.108726\n",
            "2019-06-01 -0.185258  0.856520 -0.686285  1.104195\n",
            "2019-06-02  0.387023  1.706336 -2.452653  0.260466\n",
            "2019-06-03 -1.054974  0.556775 -0.945219 -0.030295\n",
            "                   B         C         D\n",
            "2019-05-27  0.067333 -0.452978  0.686223\n",
            "2019-05-28 -0.702492  0.252265  0.958977\n",
            "                   B         D\n",
            "2019-05-27  0.067333  0.686223\n",
            "2019-05-29 -1.737568 -0.939288\n"
          ]
        }
      ]
    },
    {
      "cell_type": "code",
      "source": [
        "#instead of row number access through labels\n",
        "print(df['20190601':'20190603'])#same as\n",
        "print(df.loc['20190601':'20190603'])\n",
        "print(df.loc['20190601':'20190603', 'A' : 'B' ])#slicing by value will include the end row in this case \"B\".\n",
        "print(df.loc[['20190601','20190603'], ['A' , 'C']])#Specific rows and columns  not range"
      ],
      "metadata": {
        "id": "3li0BqhYErhV"
      },
      "execution_count": null,
      "outputs": []
    },
    {
      "cell_type": "code",
      "source": [
        "#If you simply wish to access a single cell in a DataFrame, there is a function that does just that: at() .\n",
        "from datetime import datetime\n",
        "d = datetime(2019, 6, 3, 0, 0, 0)\n",
        "print(df.at[d,'B'])\n",
        "#selecting based on cell value\n",
        "print(df[(df.A > 0) & (df.B>0)])"
      ],
      "metadata": {
        "colab": {
          "base_uri": "https://localhost:8080/"
        },
        "id": "eXK1ntZJGoB8",
        "outputId": "18e45106-2656-46b4-8cc8-111c78f20b00"
      },
      "execution_count": 17,
      "outputs": [
        {
          "output_type": "stream",
          "name": "stdout",
          "text": [
            "0.556775\n",
            "                   A         B         C         D\n",
            "2019-05-25  0.187497  1.122150 -0.988277 -1.985934\n",
            "2019-05-31  0.001268  0.951517  2.107360 -0.108726\n",
            "2019-06-02  0.387023  1.706336 -2.452653  0.260466\n"
          ]
        }
      ]
    },
    {
      "cell_type": "code",
      "source": [
        " print(df.transpose()) #convert cols to rows and rows to cols\n",
        " print(df.T)#Same as above"
      ],
      "metadata": {
        "colab": {
          "base_uri": "https://localhost:8080/"
        },
        "id": "1-RTWV-4IGej",
        "outputId": "27d297ce-4f70-48ef-8bf9-2474dc80b2b9"
      },
      "execution_count": 20,
      "outputs": [
        {
          "output_type": "stream",
          "name": "stdout",
          "text": [
            "   2019-05-25  2019-05-26  2019-05-27  2019-05-28  2019-05-29  2019-05-30  \\\n",
            "A    0.187497    0.360803   -0.040627   -0.279572    0.537438    0.070011   \n",
            "B    1.122150   -0.562243    0.067333   -0.702492   -1.737568   -0.516443   \n",
            "C   -0.988277   -0.340693   -0.452978    0.252265    0.714727   -1.655689   \n",
            "D   -1.985934   -0.986988    0.686223    0.958977   -0.939288    0.246721   \n",
            "\n",
            "   2019-05-31  2019-06-01  2019-06-02  2019-06-03  \n",
            "A    0.001268   -0.185258    0.387023   -1.054974  \n",
            "B    0.951517    0.856520    1.706336    0.556775  \n",
            "C    2.107360   -0.686285   -2.452653   -0.945219  \n",
            "D   -0.108726    1.104195    0.260466   -0.030295  \n",
            "   2019-05-25  2019-05-26  2019-05-27  2019-05-28  2019-05-29  2019-05-30  \\\n",
            "A    0.187497    0.360803   -0.040627   -0.279572    0.537438    0.070011   \n",
            "B    1.122150   -0.562243    0.067333   -0.702492   -1.737568   -0.516443   \n",
            "C   -0.988277   -0.340693   -0.452978    0.252265    0.714727   -1.655689   \n",
            "D   -1.985934   -0.986988    0.686223    0.958977   -0.939288    0.246721   \n",
            "\n",
            "   2019-05-31  2019-06-01  2019-06-02  2019-06-03  \n",
            "A    0.001268   -0.185258    0.387023   -1.054974  \n",
            "B    0.951517    0.856520    1.706336    0.556775  \n",
            "C    2.107360   -0.686285   -2.452653   -0.945219  \n",
            "D   -0.108726    1.104195    0.260466   -0.030295  \n"
          ]
        }
      ]
    },
    {
      "cell_type": "code",
      "source": [
        "\"\"\"Sorting Data in a DataFrame\n",
        " There are two ways that you can sort the data in a DataFrame:\n",
        "1. Sort by labels (axis) using the sort _ index() function\n",
        "2. Sort by value using the sort _ values() function\"\"\"\n",
        "\n",
        "print(df.sort_index(axis=0, ascending=False)) # axis = 0 means sort by row\n",
        "print(df.sort_index(axis=1, ascending=False)) # axis = 0 means sort by column\n",
        "print(df.sort_values('A', axis=0))\n"
      ],
      "metadata": {
        "id": "UjRVmMFtIte5"
      },
      "execution_count": null,
      "outputs": []
    },
    {
      "cell_type": "code",
      "source": [
        "#applying functions to dataframe\n",
        "import math\n",
        "sq_root = lambda x: math.sqrt(x) if x > 0 else x\n",
        "sq = lambda x: x**2\n",
        "print(df.B.apply(sq_root))\n",
        "print(df.apply(sq))\n",
        "\n"
      ],
      "metadata": {
        "colab": {
          "base_uri": "https://localhost:8080/"
        },
        "id": "m4J9AqlbLKYB",
        "outputId": "d385b708-3a49-4ad1-e022-6e65efd5828a"
      },
      "execution_count": 28,
      "outputs": [
        {
          "output_type": "stream",
          "name": "stdout",
          "text": [
            "2019-05-25    1.059316\n",
            "2019-05-26   -0.562243\n",
            "2019-05-27    0.259486\n",
            "2019-05-28   -0.702492\n",
            "2019-05-29   -1.737568\n",
            "2019-05-30   -0.516443\n",
            "2019-05-31    0.975457\n",
            "2019-06-01    0.925484\n",
            "2019-06-02    1.306268\n",
            "2019-06-03    0.746174\n",
            "Freq: D, Name: B, dtype: float64\n",
            "                   A         B         C         D\n",
            "2019-05-25  0.035155  1.259221  0.976691  3.943934\n",
            "2019-05-26  0.130179  0.316117  0.116072  0.974145\n",
            "2019-05-27  0.001651  0.004534  0.205189  0.470902\n",
            "2019-05-28  0.078161  0.493495  0.063638  0.919637\n",
            "2019-05-29  0.288840  3.019143  0.510835  0.882262\n",
            "2019-05-30  0.004902  0.266713  2.741306  0.060871\n",
            "2019-05-31  0.000002  0.905385  4.440966  0.011821\n",
            "2019-06-01  0.034321  0.733627  0.470987  1.219247\n",
            "2019-06-02  0.149787  2.911583  6.015507  0.067843\n",
            "2019-06-03  1.112970  0.309998  0.893439  0.000918\n"
          ]
        }
      ]
    },
    {
      "cell_type": "code",
      "source": [
        "import pandas as pd\n",
        "data = {'name': ['Janet', 'Nad', 'Timothy', 'June', 'Amy'],\n",
        "        'year': [2012, 2012, 2013, 2014, 2014],\n",
        "        'reports': [6, 13, 14, 1, 7]}\n",
        "df = pd.DataFrame(data, index = ['Singapore', 'China', 'Japan', 'Sweden', 'Norway'])\n",
        "print(df)"
      ],
      "metadata": {
        "colab": {
          "base_uri": "https://localhost:8080/"
        },
        "id": "1RPpm26SMSKp",
        "outputId": "a54f0795-ed5f-42a7-b718-610a4a5b61c7"
      },
      "execution_count": 29,
      "outputs": [
        {
          "output_type": "stream",
          "name": "stdout",
          "text": [
            "              name  year  reports\n",
            "Singapore    Janet  2012        6\n",
            "China          Nad  2012       13\n",
            "Japan      Timothy  2013       14\n",
            "Sweden        June  2014        1\n",
            "Norway         Amy  2014        7\n"
          ]
        }
      ]
    },
    {
      "cell_type": "code",
      "source": [
        "#adding column to avbove dataframe\n",
        "import numpy as np\n",
        "schools = np.array([\"Cambridge\",\"Oxford\",\"Oxford\",\"Cambridge\",\"Oxford\"])\n",
        "df[\"school\"] = schools\n",
        "print(df)\n",
        "#remove from dataframe\n",
        "print(df.drop(['China', 'Japan'])) # drop rows based on value of index--it will not alter the original dataframe to do that use inplace=true\n",
        "print(df)\n",
        "print(df.drop(df.index[1]))#drop based on row number\n",
        "print(df.drop(df.index[-2]))# removes second last row"
      ],
      "metadata": {
        "id": "CKAnQrUHMhK4"
      },
      "execution_count": null,
      "outputs": []
    },
    {
      "cell_type": "code",
      "source": [
        "#The drop() function drops rows by default, but if you want to drop columns\n",
        "# instead, set the axis parameter to 1\n",
        "print(df.drop('reports', axis=1)) # drop column\n"
      ],
      "metadata": {
        "colab": {
          "base_uri": "https://localhost:8080/"
        },
        "id": "Cpxpn_TdNcq5",
        "outputId": "fa1ed1d2-db60-48dc-a596-981138907449"
      },
      "execution_count": 36,
      "outputs": [
        {
          "output_type": "stream",
          "name": "stdout",
          "text": [
            "              name  year     school\n",
            "Singapore    Janet  2012  Cambridge\n",
            "China          Nad  2012     Oxford\n",
            "Japan      Timothy  2013     Oxford\n",
            "Sweden        June  2014  Cambridge\n",
            "Norway         Amy  2014     Oxford\n"
          ]
        }
      ]
    }
  ]
}