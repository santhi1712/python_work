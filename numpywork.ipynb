{
  "nbformat": 4,
  "nbformat_minor": 0,
  "metadata": {
    "colab": {
      "provenance": [],
      "authorship_tag": "ABX9TyNlH4S3gudpQuVqPJ93yvgI",
      "include_colab_link": true
    },
    "kernelspec": {
      "name": "python3",
      "display_name": "Python 3"
    },
    "language_info": {
      "name": "python"
    }
  },
  "cells": [
    {
      "cell_type": "markdown",
      "metadata": {
        "id": "view-in-github",
        "colab_type": "text"
      },
      "source": [
        "<a href=\"https://colab.research.google.com/github/santhi1712/python_work/blob/main/numpywork.ipynb\" target=\"_parent\"><img src=\"https://colab.research.google.com/assets/colab-badge.svg\" alt=\"Open In Colab\"/></a>"
      ]
    },
    {
      "cell_type": "code",
      "execution_count": 2,
      "metadata": {
        "colab": {
          "base_uri": "https://localhost:8080/"
        },
        "id": "-cL6uw5-CtJK",
        "outputId": "97624dea-3fb6-42b4-d05e-9810630a285f"
      },
      "outputs": [
        {
          "output_type": "stream",
          "name": "stdout",
          "text": [
            "[[ 0  1  2  3  4]\n",
            " [ 5  6  7  8  9]\n",
            " [10 11 12 13 14]]\n"
          ]
        },
        {
          "output_type": "execute_result",
          "data": {
            "text/plain": [
              "(3, 5)"
            ]
          },
          "metadata": {},
          "execution_count": 2
        }
      ],
      "source": [
        "import numpy as np\n",
        "a = np.arange(15).reshape(3, 5)\n",
        "print(a)\n",
        "a.shape"
      ]
    },
    {
      "cell_type": "code",
      "source": [
        "print(a.ndim)\n",
        "print(a.dtype.name)\n",
        "print(a.itemsize)#bytes of ecah elments of the array\n",
        "print(a.size)\n",
        "print(type(a))\n",
        "print(a.data)"
      ],
      "metadata": {
        "colab": {
          "base_uri": "https://localhost:8080/"
        },
        "id": "tjHEqhSfC-i9",
        "outputId": "026933fc-96f0-4cfc-fc37-399db7d46dbe"
      },
      "execution_count": 10,
      "outputs": [
        {
          "output_type": "stream",
          "name": "stdout",
          "text": [
            "2\n",
            "int64\n",
            "8\n",
            "15\n",
            "<class 'numpy.ndarray'>\n",
            "<memory at 0x7b0a1db946c0>\n"
          ]
        }
      ]
    },
    {
      "cell_type": "code",
      "source": [
        "import numpy as np\n",
        "a = np.array([2, 3, 4])\n",
        "print(a)\n",
        "#2 dimen array\n",
        "b = np.array([(1.5, 2, 3), (4, 5, 6)])\n",
        "print(b)\n",
        "# we can specify type of array explictly\n",
        "c = np.array([[1, 2], [3, 4]], dtype=complex)\n",
        "print(c)"
      ],
      "metadata": {
        "colab": {
          "base_uri": "https://localhost:8080/"
        },
        "id": "_IYi6-f3FcRF",
        "outputId": "50492092-5830-4ffd-f5bc-7e7a5f0e6751"
      },
      "execution_count": 14,
      "outputs": [
        {
          "output_type": "stream",
          "name": "stdout",
          "text": [
            "[2 3 4]\n",
            "[[1.5 2.  3. ]\n",
            " [4.  5.  6. ]]\n",
            "[[1.+0.j 2.+0.j]\n",
            " [3.+0.j 4.+0.j]]\n"
          ]
        }
      ]
    },
    {
      "cell_type": "code",
      "source": [
        "np.zeros((3,4))\n",
        "np.ones((2,3,4),dtype=np.int16)\n",
        "np.empty((2,3),dtype=np.int32)#initial contect is random and depends on state of memmory"
      ],
      "metadata": {
        "colab": {
          "base_uri": "https://localhost:8080/"
        },
        "id": "oUnzGNQ7F-Fc",
        "outputId": "20546310-f8d3-4163-af1a-205750d1f1bc"
      },
      "execution_count": 22,
      "outputs": [
        {
          "output_type": "execute_result",
          "data": {
            "text/plain": [
              "array([[2, 0, 3],\n",
              "       [0, 4, 0]], dtype=int32)"
            ]
          },
          "metadata": {},
          "execution_count": 22
        }
      ]
    },
    {
      "cell_type": "code",
      "source": [
        "#create sequence of numbers\n",
        "np.arange(10,30,5)#with fiffrence 5\n",
        "np.linspace(0,4,9)#9 numbers from 0 to 2\n"
      ],
      "metadata": {
        "colab": {
          "base_uri": "https://localhost:8080/"
        },
        "id": "RpiaM31bGq0N",
        "outputId": "f4149841-51bd-421e-cb78-4a6866bb2bfc"
      },
      "execution_count": 24,
      "outputs": [
        {
          "output_type": "execute_result",
          "data": {
            "text/plain": [
              "array([0. , 0.5, 1. , 1.5, 2. , 2.5, 3. , 3.5, 4. ])"
            ]
          },
          "metadata": {},
          "execution_count": 24
        }
      ]
    },
    {
      "cell_type": "code",
      "source": [
        "a = np.arange(6)                    # 1d array\n",
        "print(a)\n",
        "b = np.arange(12).reshape(4, 3)     # 2d array\n",
        "print(b)\n",
        "b = np.arange(24).reshape(3,2,4)     # 2d array\n",
        "print(b)\n",
        "\n"
      ],
      "metadata": {
        "id": "lkZ7plAQIlNr"
      },
      "execution_count": null,
      "outputs": []
    },
    {
      "cell_type": "code",
      "source": [
        "#basic operations\n",
        "a = np.array([20, 30, 40, 50])\n",
        "b = np.arange(4)\n",
        "print(\"a-b:\",a-b)\n",
        "print(b**2)\n",
        "print(a<40)"
      ],
      "metadata": {
        "colab": {
          "base_uri": "https://localhost:8080/"
        },
        "id": "iJGkNYn0JIQr",
        "outputId": "24b36c79-f9f6-470d-8be2-9a3058626e6e"
      },
      "execution_count": 33,
      "outputs": [
        {
          "output_type": "stream",
          "name": "stdout",
          "text": [
            "a-b: [20 29 38 47]\n",
            "[0 1 4 9]\n",
            "[ True  True False False]\n"
          ]
        }
      ]
    },
    {
      "cell_type": "code",
      "source": [
        "A = np.array([[1, 1],[0, 1]])#2D\n",
        "B = np.array([[2, 0],[3, 4]])\n",
        "print(A * B)    # elementwise product\n",
        "\n",
        "print(A @ B)     # matrix product #[[1*2+1*3, 1*0+1*4],[0*2+1*3, 0*0+1*4]]\n",
        "\n",
        "print(A.dot(B))  # another matrix product\n"
      ],
      "metadata": {
        "id": "KVi9qmH4JiE2"
      },
      "execution_count": null,
      "outputs": []
    },
    {
      "cell_type": "code",
      "source": [
        "a=np.array([0,1,2])#1d\n",
        "b=np.array([2,3,4])\n",
        "print(a.dot(b))"
      ],
      "metadata": {
        "colab": {
          "base_uri": "https://localhost:8080/"
        },
        "id": "X1yArVs-LTzK",
        "outputId": "8b5fd115-9a72-4d7c-81e6-c4eb62adefd5"
      },
      "execution_count": 36,
      "outputs": [
        {
          "output_type": "stream",
          "name": "stdout",
          "text": [
            "11\n"
          ]
        }
      ]
    },
    {
      "cell_type": "code",
      "source": [
        "a = np.array([13,14,60])\n",
        "print(a)\n",
        "print(a.sum())\n",
        "print(a.min())\n",
        "print(a.max())\n"
      ],
      "metadata": {
        "colab": {
          "base_uri": "https://localhost:8080/"
        },
        "id": "2DLboZ8_MhUI",
        "outputId": "1b47c8c5-ee8f-44af-d556-882b8eb9d71f"
      },
      "execution_count": 41,
      "outputs": [
        {
          "output_type": "stream",
          "name": "stdout",
          "text": [
            "[13 14 60]\n",
            "87\n",
            "13\n",
            "60\n"
          ]
        }
      ]
    },
    {
      "cell_type": "code",
      "source": [
        "num=np.arange(12).reshape(3,4)\n",
        "print(num)\n",
        "print(num.sum(axis=0))#sum of each co\n",
        "print(num.sum(axis=1))#sum of each row\n",
        "print(num.cumsum(axis=1))#cumilative sum along each row"
      ],
      "metadata": {
        "colab": {
          "base_uri": "https://localhost:8080/"
        },
        "id": "lh_AsDtPNikS",
        "outputId": "a6ee0d1a-6da6-40c6-9c97-b1c8fd4ed41e"
      },
      "execution_count": 46,
      "outputs": [
        {
          "output_type": "stream",
          "name": "stdout",
          "text": [
            "[[ 0  1  2  3]\n",
            " [ 4  5  6  7]\n",
            " [ 8  9 10 11]]\n",
            "[12 15 18 21]\n",
            "[ 6 22 38]\n",
            "[[ 0  1  3  6]\n",
            " [ 4  9 15 22]\n",
            " [ 8 17 27 38]]\n"
          ]
        }
      ]
    },
    {
      "cell_type": "code",
      "source": [
        "#indexing,slicing and iterating\n",
        "s = np.arange(10)**3\n",
        "print(s)\n",
        "print(s[3])\n",
        "print(s[2:6])"
      ],
      "metadata": {
        "colab": {
          "base_uri": "https://localhost:8080/"
        },
        "id": "xT5qGlEHQelp",
        "outputId": "8d9aa10e-8a1b-4073-b8d8-c13d6c0dcc4d"
      },
      "execution_count": 49,
      "outputs": [
        {
          "output_type": "stream",
          "name": "stdout",
          "text": [
            "[  0   1   8  27  64 125 216 343 512 729]\n",
            "27\n",
            "[  8  27  64 125]\n"
          ]
        }
      ]
    }
  ]
}