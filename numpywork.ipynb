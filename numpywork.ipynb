{
  "nbformat": 4,
  "nbformat_minor": 0,
  "metadata": {
    "colab": {
      "provenance": [],
      "authorship_tag": "ABX9TyOf4jXOarT4W7JI1XHnpeLt",
      "include_colab_link": true
    },
    "kernelspec": {
      "name": "python3",
      "display_name": "Python 3"
    },
    "language_info": {
      "name": "python"
    }
  },
  "cells": [
    {
      "cell_type": "markdown",
      "metadata": {
        "id": "view-in-github",
        "colab_type": "text"
      },
      "source": [
        "<a href=\"https://colab.research.google.com/github/santhi1712/python_work/blob/main/numpywork.ipynb\" target=\"_parent\"><img src=\"https://colab.research.google.com/assets/colab-badge.svg\" alt=\"Open In Colab\"/></a>"
      ]
    },
    {
      "cell_type": "code",
      "execution_count": null,
      "metadata": {
        "colab": {
          "base_uri": "https://localhost:8080/"
        },
        "id": "-cL6uw5-CtJK",
        "outputId": "97624dea-3fb6-42b4-d05e-9810630a285f"
      },
      "outputs": [
        {
          "output_type": "stream",
          "name": "stdout",
          "text": [
            "[[ 0  1  2  3  4]\n",
            " [ 5  6  7  8  9]\n",
            " [10 11 12 13 14]]\n"
          ]
        },
        {
          "output_type": "execute_result",
          "data": {
            "text/plain": [
              "(3, 5)"
            ]
          },
          "metadata": {},
          "execution_count": 2
        }
      ],
      "source": [
        "import numpy as np\n",
        "a = np.arange(15).reshape(3, 5)\n",
        "print(a)\n",
        "a.shape"
      ]
    },
    {
      "cell_type": "code",
      "source": [
        "print(a.ndim)\n",
        "print(a.dtype.name)\n",
        "print(a.itemsize)#bytes of ecah elments of the array\n",
        "print(a.size)\n",
        "print(type(a))\n",
        "print(a.data)"
      ],
      "metadata": {
        "colab": {
          "base_uri": "https://localhost:8080/"
        },
        "id": "tjHEqhSfC-i9",
        "outputId": "026933fc-96f0-4cfc-fc37-399db7d46dbe"
      },
      "execution_count": null,
      "outputs": [
        {
          "output_type": "stream",
          "name": "stdout",
          "text": [
            "2\n",
            "int64\n",
            "8\n",
            "15\n",
            "<class 'numpy.ndarray'>\n",
            "<memory at 0x7b0a1db946c0>\n"
          ]
        }
      ]
    },
    {
      "cell_type": "code",
      "source": [
        "import numpy as np\n",
        "a = np.array([2, 3, 4])\n",
        "print(a)\n",
        "#2 dimen array\n",
        "b = np.array([(1.5, 2, 3), (4, 5, 6)])\n",
        "print(b)\n",
        "# we can specify type of array explictly\n",
        "c = np.array([[1, 2], [3, 4]], dtype=complex)\n",
        "print(c)"
      ],
      "metadata": {
        "colab": {
          "base_uri": "https://localhost:8080/"
        },
        "id": "_IYi6-f3FcRF",
        "outputId": "50492092-5830-4ffd-f5bc-7e7a5f0e6751"
      },
      "execution_count": null,
      "outputs": [
        {
          "output_type": "stream",
          "name": "stdout",
          "text": [
            "[2 3 4]\n",
            "[[1.5 2.  3. ]\n",
            " [4.  5.  6. ]]\n",
            "[[1.+0.j 2.+0.j]\n",
            " [3.+0.j 4.+0.j]]\n"
          ]
        }
      ]
    },
    {
      "cell_type": "code",
      "source": [
        "np.zeros((3,4))\n",
        "np.ones((2,3,4),dtype=np.int16)\n",
        "np.empty((2,3),dtype=np.int32)#initial contect is random and depends on state of memmory"
      ],
      "metadata": {
        "colab": {
          "base_uri": "https://localhost:8080/"
        },
        "id": "oUnzGNQ7F-Fc",
        "outputId": "20546310-f8d3-4163-af1a-205750d1f1bc"
      },
      "execution_count": null,
      "outputs": [
        {
          "output_type": "execute_result",
          "data": {
            "text/plain": [
              "array([[2, 0, 3],\n",
              "       [0, 4, 0]], dtype=int32)"
            ]
          },
          "metadata": {},
          "execution_count": 22
        }
      ]
    },
    {
      "cell_type": "code",
      "source": [
        "#create sequence of numbers\n",
        "np.arange(10,30,5)#with fiffrence 5\n",
        "np.linspace(0,4,9)#9 numbers from 0 to 2\n"
      ],
      "metadata": {
        "colab": {
          "base_uri": "https://localhost:8080/"
        },
        "id": "RpiaM31bGq0N",
        "outputId": "f4149841-51bd-421e-cb78-4a6866bb2bfc"
      },
      "execution_count": null,
      "outputs": [
        {
          "output_type": "execute_result",
          "data": {
            "text/plain": [
              "array([0. , 0.5, 1. , 1.5, 2. , 2.5, 3. , 3.5, 4. ])"
            ]
          },
          "metadata": {},
          "execution_count": 24
        }
      ]
    },
    {
      "cell_type": "code",
      "source": [
        "a = np.arange(6)                    # 1d array\n",
        "print(a)\n",
        "b = np.arange(12).reshape(4, 3)     # 2d array\n",
        "print(b)\n",
        "b = np.arange(24).reshape(3,2,4)     # 2d array\n",
        "print(b)\n",
        "\n"
      ],
      "metadata": {
        "id": "lkZ7plAQIlNr"
      },
      "execution_count": null,
      "outputs": []
    },
    {
      "cell_type": "code",
      "source": [
        "#basic operations\n",
        "a = np.array([20, 30, 40, 50])\n",
        "b = np.arange(4)\n",
        "print(\"a-b:\",a-b)\n",
        "print(b**2)\n",
        "print(a<40)"
      ],
      "metadata": {
        "colab": {
          "base_uri": "https://localhost:8080/"
        },
        "id": "iJGkNYn0JIQr",
        "outputId": "24b36c79-f9f6-470d-8be2-9a3058626e6e"
      },
      "execution_count": null,
      "outputs": [
        {
          "output_type": "stream",
          "name": "stdout",
          "text": [
            "a-b: [20 29 38 47]\n",
            "[0 1 4 9]\n",
            "[ True  True False False]\n"
          ]
        }
      ]
    },
    {
      "cell_type": "code",
      "source": [
        "A = np.array([[1, 1],[0, 1]])#2D\n",
        "B = np.array([[2, 0],[3, 4]])\n",
        "print(A * B)    # elementwise product\n",
        "\n",
        "print(A @ B)     # matrix product #[[1*2+1*3, 1*0+1*4],[0*2+1*3, 0*0+1*4]]\n",
        "\n",
        "print(A.dot(B))  # another matrix product\n"
      ],
      "metadata": {
        "id": "KVi9qmH4JiE2"
      },
      "execution_count": null,
      "outputs": []
    },
    {
      "cell_type": "code",
      "source": [
        "a=np.array([0,1,2])#1d\n",
        "b=np.array([2,3,4])\n",
        "print(a.dot(b))"
      ],
      "metadata": {
        "colab": {
          "base_uri": "https://localhost:8080/"
        },
        "id": "X1yArVs-LTzK",
        "outputId": "8b5fd115-9a72-4d7c-81e6-c4eb62adefd5"
      },
      "execution_count": null,
      "outputs": [
        {
          "output_type": "stream",
          "name": "stdout",
          "text": [
            "11\n"
          ]
        }
      ]
    },
    {
      "cell_type": "code",
      "source": [
        "a = np.array([13,14,60])\n",
        "print(a)\n",
        "print(a.sum())\n",
        "print(a.min())\n",
        "print(a.max())\n"
      ],
      "metadata": {
        "colab": {
          "base_uri": "https://localhost:8080/"
        },
        "id": "2DLboZ8_MhUI",
        "outputId": "1b47c8c5-ee8f-44af-d556-882b8eb9d71f"
      },
      "execution_count": null,
      "outputs": [
        {
          "output_type": "stream",
          "name": "stdout",
          "text": [
            "[13 14 60]\n",
            "87\n",
            "13\n",
            "60\n"
          ]
        }
      ]
    },
    {
      "cell_type": "code",
      "source": [
        "num=np.arange(12).reshape(3,4)\n",
        "print(num)\n",
        "print(num.sum(axis=0))#sum of each co\n",
        "print(num.sum(axis=1))#sum of each row\n",
        "print(num.cumsum(axis=1))#cumilative sum along each row"
      ],
      "metadata": {
        "colab": {
          "base_uri": "https://localhost:8080/"
        },
        "id": "lh_AsDtPNikS",
        "outputId": "a6ee0d1a-6da6-40c6-9c97-b1c8fd4ed41e"
      },
      "execution_count": null,
      "outputs": [
        {
          "output_type": "stream",
          "name": "stdout",
          "text": [
            "[[ 0  1  2  3]\n",
            " [ 4  5  6  7]\n",
            " [ 8  9 10 11]]\n",
            "[12 15 18 21]\n",
            "[ 6 22 38]\n",
            "[[ 0  1  3  6]\n",
            " [ 4  9 15 22]\n",
            " [ 8 17 27 38]]\n"
          ]
        }
      ]
    },
    {
      "cell_type": "code",
      "source": [
        "#indexing,slicing and iterating\n",
        "s = np.arange(10)**3\n",
        "print(s)\n",
        "print(s[3])\n",
        "print(s[2:6])\n",
        "print(s[:6:2])#give every alternate(skips 2 nd element)\n",
        "print(s[:6:3])#(skips 3 rd element)\n",
        "print(s[::-1])#reverse of s"
      ],
      "metadata": {
        "colab": {
          "base_uri": "https://localhost:8080/"
        },
        "id": "xT5qGlEHQelp",
        "outputId": "a1711fd1-2f2d-4142-b923-aa28c915e2e0"
      },
      "execution_count": null,
      "outputs": [
        {
          "output_type": "stream",
          "name": "stdout",
          "text": [
            "[  0   1   8  27  64 125 216 343 512 729]\n",
            "27\n",
            "[  8  27  64 125]\n",
            "[ 0  8 64]\n",
            "[ 0 27]\n",
            "[729 512 343 216 125  64  27   8   1   0]\n"
          ]
        }
      ]
    },
    {
      "cell_type": "code",
      "source": [
        "def f(x, y):\n",
        "    return 10 * x + y\n",
        "num=np.fromfunction(f,(5,4),dtype=int)\n",
        "print(num)\n",
        "print(num[2,3]) #3rd column,2nd element\n",
        "print(num[0:5,1])#each row in second column\n",
        "print(num[:,1])#same as above\n",
        "print(num[1:3,:])#exclude outer limit,so 1,2 row taken\n",
        "print(num[-1])#last row\n",
        "#iterating over multi dimensional array\n",
        "for row in num:\n",
        "  print(row)\n",
        "#iterates each elemnet through flat\n",
        "for element in num.flat:\n",
        "  print(element)"
      ],
      "metadata": {
        "id": "qdzG-ta4r6KE"
      },
      "execution_count": null,
      "outputs": []
    },
    {
      "cell_type": "code",
      "source": [
        "f=np.array([[1,2,3,4],[3,5,6,7],[10,11,2,4],[3,6,7,8],[12,8,9,51]])\n",
        "print(f.shape)\n",
        "print(f.ravel()) #flatten array\n",
        "print(f.reshape(4,5))#returns the array with modified shape\n",
        "print(f.T) #TRANSPOSE\n",
        "print(f.T.shape)\n",
        "#f.reshape(2,10)\n",
        "f.resize(4,5) #modifies the array itself\n",
        "f.shape\n",
        "print(f)\n",
        "print(f.reshape(5,-1))#if -1 given it will calculate dimensions autmatically\n",
        "f.shape"
      ],
      "metadata": {
        "id": "DbbXa9xut1Aq"
      },
      "execution_count": null,
      "outputs": []
    },
    {
      "cell_type": "code",
      "source": [
        "#copies and views\n",
        "a = np.array([[ 0,  1,  2,  3],\n",
        "              [ 4,  5,  6,  7],\n",
        "              [ 8,  9, 10, 11]])\n",
        "print(a)\n",
        "b=a #no new object created ;2 names for same array\n",
        "print(b)\n",
        "print(b is a)\n",
        "\n",
        "#shallow copy(kind of view)\n",
        "c=a.view()\n",
        "print(c)\n",
        "print(c is a)\n",
        "print(c.base is a)\n",
        "print(c.flags.owndata)\n",
        "c=c.reshape(2,6)# a's shape wont chnage\n",
        "print(c.shape)\n",
        "print(a.shape)\n",
        "c[0,3]=1234 #it changes a data also\n",
        "print(c)\n",
        "print(a)\n",
        "\n",
        "#Deep copy\n",
        "d = a.copy() # a new array object with new data creted\n",
        "print( d is a)\n",
        "d[0,1]=9999\n",
        "print(a) #not effected a\n",
        "print(d)"
      ],
      "metadata": {
        "id": "bVpSSi22w8gp"
      },
      "execution_count": null,
      "outputs": []
    },
    {
      "cell_type": "code",
      "source": [
        "m= np.arange(12).reshape(3, 4)\n",
        "print(m)\n",
        "n=a>8\n",
        "print(n)\n",
        "print(m[n])\n",
        "m[n]=0\n",
        "print(m)"
      ],
      "metadata": {
        "colab": {
          "base_uri": "https://localhost:8080/"
        },
        "id": "335t87te3d2e",
        "outputId": "f4138faa-8a23-4392-cbba-63c45cceb5b4"
      },
      "execution_count": null,
      "outputs": [
        {
          "output_type": "stream",
          "name": "stdout",
          "text": [
            "[[ 0  1  2  3]\n",
            " [ 4  5  6  7]\n",
            " [ 8  9 10 11]]\n",
            "[[False False False  True]\n",
            " [False False False False]\n",
            " [False  True  True  True]]\n",
            "[ 3  9 10 11]\n",
            "[[0 1 2 0]\n",
            " [4 5 6 7]\n",
            " [8 0 0 0]]\n"
          ]
        }
      ]
    },
    {
      "cell_type": "code",
      "source": [
        "#second way of boolen indexing\n",
        "a = np.arange(9).reshape(3,3)\n",
        "print(a)\n",
        "b1 = np.array([False, True, True])         # first dim selection\n",
        "b2 = np.array([True, False, True,])  # second dim selection\n",
        "print(a[b1])\n",
        "print(a[:,b2])"
      ],
      "metadata": {
        "colab": {
          "base_uri": "https://localhost:8080/"
        },
        "id": "4K2m_XsALmFM",
        "outputId": "0be46c95-a7e5-4877-9440-dd6c7d1db284"
      },
      "execution_count": null,
      "outputs": [
        {
          "output_type": "stream",
          "name": "stdout",
          "text": [
            "[[0 1 2]\n",
            " [3 4 5]\n",
            " [6 7 8]]\n",
            "[[3 4 5]\n",
            " [6 7 8]]\n",
            "[[0 2]\n",
            " [3 5]\n",
            " [6 8]]\n"
          ]
        }
      ]
    },
    {
      "cell_type": "code",
      "source": [
        "a = np.array([2, 3, 4, 5])\n",
        "b = np.array([8, 5, 4])\n",
        "c = np.array([5, 4, 6, 8, 3])\n",
        "ax, bx, cx = np.ix_(a, b, c) #ix_ function can be used to combine different vectors so as to obtain the result for each n-uplet.\n",
        "print(ax)\n",
        "print(ax.shape)\n",
        "print(bx.shape)\n",
        "print(a[3] + b[2] * c[4])\n"
      ],
      "metadata": {
        "colab": {
          "base_uri": "https://localhost:8080/"
        },
        "id": "VPsnglegMnTZ",
        "outputId": "63859dd2-87ae-446d-c8f8-2b6caddbfaa7"
      },
      "execution_count": null,
      "outputs": [
        {
          "output_type": "stream",
          "name": "stdout",
          "text": [
            "[[[2]]\n",
            "\n",
            " [[3]]\n",
            "\n",
            " [[4]]\n",
            "\n",
            " [[5]]]\n",
            "(4, 1, 1)\n",
            "(1, 3, 1)\n",
            "17\n"
          ]
        }
      ]
    },
    {
      "cell_type": "code",
      "source": [
        "result=ax+bx*cx\n",
        "print(result)\n",
        "print(result[3,0,3])#3rd array,0th row,3rd column element"
      ],
      "metadata": {
        "colab": {
          "base_uri": "https://localhost:8080/"
        },
        "id": "sdPynuWwOeWV",
        "outputId": "6b35f073-12cd-4833-96fc-44076347faee"
      },
      "execution_count": 1,
      "outputs": [
        {
          "output_type": "error",
          "ename": "NameError",
          "evalue": "ignored",
          "traceback": [
            "\u001b[0;31m---------------------------------------------------------------------------\u001b[0m",
            "\u001b[0;31mNameError\u001b[0m                                 Traceback (most recent call last)",
            "\u001b[0;32m<ipython-input-1-6ebd12387dc6>\u001b[0m in \u001b[0;36m<cell line: 1>\u001b[0;34m()\u001b[0m\n\u001b[0;32m----> 1\u001b[0;31m \u001b[0mresult\u001b[0m\u001b[0;34m=\u001b[0m\u001b[0max\u001b[0m\u001b[0;34m+\u001b[0m\u001b[0mbx\u001b[0m\u001b[0;34m*\u001b[0m\u001b[0mcx\u001b[0m\u001b[0;34m\u001b[0m\u001b[0;34m\u001b[0m\u001b[0m\n\u001b[0m\u001b[1;32m      2\u001b[0m \u001b[0mprint\u001b[0m\u001b[0;34m(\u001b[0m\u001b[0mresult\u001b[0m\u001b[0;34m)\u001b[0m\u001b[0;34m\u001b[0m\u001b[0;34m\u001b[0m\u001b[0m\n\u001b[1;32m      3\u001b[0m \u001b[0mprint\u001b[0m\u001b[0;34m(\u001b[0m\u001b[0mresult\u001b[0m\u001b[0;34m[\u001b[0m\u001b[0;36m3\u001b[0m\u001b[0;34m,\u001b[0m\u001b[0;36m0\u001b[0m\u001b[0;34m,\u001b[0m\u001b[0;36m3\u001b[0m\u001b[0;34m]\u001b[0m\u001b[0;34m)\u001b[0m\u001b[0;31m#3rd array,0th row,3rd column element\u001b[0m\u001b[0;34m\u001b[0m\u001b[0;34m\u001b[0m\u001b[0m\n",
            "\u001b[0;31mNameError\u001b[0m: name 'ax' is not defined"
          ]
        }
      ]
    }
  ]
}